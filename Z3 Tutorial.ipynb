{
  "cells": [
    {
      "cell_type": "markdown",
      "metadata": {
        "id": "qwFLkdqbVQut"
      },
      "source": [
        "# Introduction\n",
        "\n",
        "## Hi, I'm Phil!\n",
        "\n",
        "I like math, computers, physics, and long walks on the beach. You can check out what I'm up to at https://www.philipzucker.com/ or give me a twoot at [@SandMouth](https://twitter.com/SandMouth). The video corresponding to this notebook is available here https://youtu.be/56IIrBZy9Rc\n",
        "\n",
        "I work at Draper Labs where we use Z3 as a backend for tools like the Comparative Binary Analysis (CBAT) project https://github.com/draperlaboratory/cbat_tools which formally verifies binary program transformations.\n",
        "\n",
        "## Formal Methods\n",
        "\n",
        "What are formal methods? Well, let's google it:\n",
        "\n",
        "\"In computer science, specifically software engineering and hardware engineering, formal methods are a particular kind of mathematically based techniques for the specification, development and verification of software and hardware systems.[1] The use of formal methods for software and hardware design is motivated by the expectation that, as in other engineering disciplines, performing appropriate mathematical analysis can contribute to the reliability and robustness of a design.[2]\" - https://en.wikipedia.org/wiki/Formal_methods\n",
        "\n",
        "Broadly speaking, Formal Methods are the application of mathematical thinking to computational systems.\n",
        "\n",
        "More narrowly, Formal Methods make the connection between specifications and implementations rigid and reliable.\n",
        "\n",
        "A specification is a precise, clear, and succinct statement of what a program or system should do. It often has a logical or mathematical flavor.\n",
        "\n",
        "An implementation is also precise, but often significantly more verbose. It needs much more detail to actually describe how the system achieves it's goals. It often has a programming flavor.\n",
        "\n",
        "The two should be equivalent in some sense. The process of showing this is verification. This reduces the possibility of bugs in the implementation to bugs in the specification and in this sense a program can be proven correct.  \n",
        "\n",
        "How do we prove that other than by waving our hands and hoping? Well, it's pretty hard. One astonishingly powerful and versatile tool we'll explore today is the Z3 theorem prover.\n",
        "\n",
        "## What is Z3?\n",
        "\n",
        "Well, let's google it.\n",
        "\n",
        "\"Z3 is a state-of-the art theorem prover from Microsoft Research. It can be used to check the satisfiability of logical formulas over one or more theories. Z3 offers a compelling match for software analysis and verification tools, since several common software constructs map directly into supported theories.\"\n",
        "\n",
        "### What the heck does that mean?\n",
        "\n",
        "There are a number of different interesting things you can do with Z3. It has some simplification capabilities that overlap with computer algebra systems like Mathematica, some capabilities that overlap with constraint satisfaction solvers like Minizinc, and a capability to manipulate and express logical statements. The sum total of these capabilities enables z3 to effectively and automatically find solutions to a wide variety of problems or (importantly!) effectively and automatically prove that such solutions _do not exist_.\n",
        "\n",
        "Z3 was designed with the intention that it is going to be used for hardware and software verification tasks.\n",
        "Many verification tools extensively use Z3 or equivalent solvers as the heavy lifting. They are often interfaces that translate the task at hand into a bunch of queries to Z3. But Z3 is also useful on it's own.\n",
        "\n",
        "Z3 was open sourced in the beginning of 2015. The source code is licensed under MIT License and hosted on GitHub.\n",
        "\n",
        "Z3 has official bindings for C, C++, Python, .NET, OCaml, Java and often bindings available in other languages as well. It also has a command line interface that takes in a standardized logical formula input format called [smtlib](http://smtlib.cs.uiowa.edu/). The python bindings are full featured, and python is a familiar language to many, so that is our choice today.\n",
        "\n"
      ]
    },
    {
      "cell_type": "markdown",
      "metadata": {
        "id": "uJWsGvUuVQuv"
      },
      "source": [
        "# Walking through a Z3 problem\n",
        "\n",
        "To get started, let's do some simple examples\n",
        "\n",
        "First of you need Z3 installed. Z3 is available on pip, the python package installer.\n",
        "Oh, not _that_ Z3. Amusingly, `pip install z3` actually installs a completely unrelated tool.\n",
        "The command you actually need is\n"
      ]
    },
    {
      "cell_type": "code",
      "execution_count": 1,
      "metadata": {
        "colab": {
          "base_uri": "https://localhost:8080/"
        },
        "id": "rvF9--lfVQuv",
        "outputId": "596405e3-bc54-4828-dd75-5206c4141f20"
      },
      "outputs": [
        {
          "output_type": "stream",
          "name": "stdout",
          "text": [
            "Collecting z3-solver\n",
            "  Downloading z3_solver-4.13.3.0-py3-none-manylinux_2_17_x86_64.manylinux2014_x86_64.whl.metadata (602 bytes)\n",
            "Downloading z3_solver-4.13.3.0-py3-none-manylinux_2_17_x86_64.manylinux2014_x86_64.whl (28.1 MB)\n",
            "\u001b[2K   \u001b[90m━━━━━━━━━━━━━━━━━━━━━━━━━━━━━━━━━━━━━━━━\u001b[0m \u001b[32m28.1/28.1 MB\u001b[0m \u001b[31m26.3 MB/s\u001b[0m eta \u001b[36m0:00:00\u001b[0m\n",
            "\u001b[?25hInstalling collected packages: z3-solver\n",
            "Successfully installed z3-solver-4.13.3.0\n"
          ]
        }
      ],
      "source": [
        "!pip install z3-solver"
      ]
    },
    {
      "cell_type": "markdown",
      "metadata": {
        "id": "RRAfaC9IVQuv"
      },
      "source": [
        "We define a simple problem by first importing the library."
      ]
    },
    {
      "cell_type": "code",
      "execution_count": 2,
      "metadata": {
        "id": "fyNb-cPwVQuw"
      },
      "outputs": [],
      "source": [
        "from z3 import *"
      ]
    },
    {
      "cell_type": "markdown",
      "metadata": {
        "id": "LitnnyaMVQuw"
      },
      "source": [
        "We then declare our variables, state a set of constraints we wish to hold, and then call the convenience function `solve` to get a solution."
      ]
    },
    {
      "cell_type": "code",
      "execution_count": 3,
      "metadata": {
        "colab": {
          "base_uri": "https://localhost:8080/"
        },
        "id": "Xuoz5vRDVQuw",
        "outputId": "f262770e-e2cd-44e9-fd9d-97f029f58d89"
      },
      "outputs": [
        {
          "output_type": "stream",
          "name": "stdout",
          "text": [
            "[y = 0, x = 7]\n"
          ]
        }
      ],
      "source": [
        "x = Int('x')\n",
        "y = Int('y')\n",
        "solve(x > 2, y < 10, x + 2*y == 7)"
      ]
    },
    {
      "cell_type": "markdown",
      "metadata": {
        "id": "8Btp9ud6VQux"
      },
      "source": [
        "Or we can ask the same question using the longer form syntax of building a solver object and adding constraint"
      ]
    },
    {
      "cell_type": "code",
      "execution_count": 4,
      "metadata": {
        "colab": {
          "base_uri": "https://localhost:8080/"
        },
        "id": "j0zgEa6dVQux",
        "outputId": "4a6d9319-5705-4b17-9995-6e7bd5c673e6"
      },
      "outputs": [
        {
          "output_type": "stream",
          "name": "stdout",
          "text": [
            "sat\n",
            "[y = 0, x = 7]\n"
          ]
        }
      ],
      "source": [
        "x = Int('x')\n",
        "y = Int('y')\n",
        "\n",
        "s = Solver()\n",
        "s.add(x > 2)\n",
        "s.add(y < 10)\n",
        "s.add(x + 2 *y == 7)\n",
        "\n",
        "print(s.check())\n",
        "print(s.model())"
      ]
    },
    {
      "cell_type": "markdown",
      "metadata": {
        "id": "cyDzrVHfVQux"
      },
      "source": [
        "We can also use z3 to prove properties and theorems. We'll get more into what this means later."
      ]
    },
    {
      "cell_type": "code",
      "execution_count": 5,
      "metadata": {
        "colab": {
          "base_uri": "https://localhost:8080/",
          "height": 34
        },
        "id": "5-ULsbewVQux",
        "outputId": "f7eb63ee-8735-4eba-cf3f-85ec3b754e27"
      },
      "outputs": [
        {
          "output_type": "execute_result",
          "data": {
            "text/plain": [
              "Implies(p, p)"
            ],
            "text/html": [
              "p &rArr; p"
            ]
          },
          "metadata": {},
          "execution_count": 5
        }
      ],
      "source": [
        "p = Bool(\"p\")\n",
        "my_true_thm = Implies(p, p)\n",
        "my_true_thm"
      ]
    },
    {
      "cell_type": "code",
      "execution_count": 6,
      "metadata": {
        "colab": {
          "base_uri": "https://localhost:8080/"
        },
        "id": "INeoh0xiVQux",
        "outputId": "baf1a15c-d7ae-44e6-dfb0-c31bcffac93a"
      },
      "outputs": [
        {
          "output_type": "stream",
          "name": "stdout",
          "text": [
            "proved\n"
          ]
        }
      ],
      "source": [
        "prove(my_true_thm)"
      ]
    },
    {
      "cell_type": "markdown",
      "metadata": {
        "id": "V4AsNa8SVQuy"
      },
      "source": [
        "If the property is not true, z3 can supply a counterexample"
      ]
    },
    {
      "cell_type": "code",
      "execution_count": 7,
      "metadata": {
        "colab": {
          "base_uri": "https://localhost:8080/",
          "height": 34
        },
        "id": "zdtpDXGFVQuy",
        "outputId": "33afcb9b-edec-4ce5-fdf2-901c887a9ada"
      },
      "outputs": [
        {
          "output_type": "execute_result",
          "data": {
            "text/plain": [
              "Implies(q, p)"
            ],
            "text/html": [
              "q &rArr; p"
            ]
          },
          "metadata": {},
          "execution_count": 7
        }
      ],
      "source": [
        "q = Bool(\"q\")\n",
        "my_false_thm = Implies(q, p)\n",
        "my_false_thm"
      ]
    },
    {
      "cell_type": "code",
      "execution_count": 8,
      "metadata": {
        "scrolled": true,
        "colab": {
          "base_uri": "https://localhost:8080/"
        },
        "id": "YPufKvbCVQuy",
        "outputId": "846129c2-2d9c-4855-b928-c1064ee654ab"
      },
      "outputs": [
        {
          "output_type": "stream",
          "name": "stdout",
          "text": [
            "counterexample\n",
            "[p = False, q = True]\n"
          ]
        }
      ],
      "source": [
        "prove(my_false_thm)"
      ]
    },
    {
      "cell_type": "markdown",
      "metadata": {
        "id": "B1iJV5yjVQuy"
      },
      "source": [
        "## Z3 Variables\n",
        "\n",
        "You can create z3 variables of different sorts. Here is an incomplete list"
      ]
    },
    {
      "cell_type": "code",
      "execution_count": 9,
      "metadata": {
        "id": "6XAj2J4DVQuy"
      },
      "outputs": [],
      "source": [
        "x = Bool(\"x\")\n",
        "x = Const(\"x\" , BoolSort())\n",
        "p, q, r = Bools(\"p q r\") # convenience function for multiple definitions\n",
        "x = Real(\"x\")\n",
        "y = Int(\"x\")\n",
        "v = BitVec(\"n\", 32) # 32 bit bitvector\n",
        "f = FP(\"f\", Float64()) #Floating point values\n",
        "a = Array(\"a\", IntSort(), BoolSort()) # arrays"
      ]
    },
    {
      "cell_type": "markdown",
      "metadata": {
        "id": "sgklhon_VQuy"
      },
      "source": [
        "### Z3 constants\n",
        "\n",
        "Often values are cast in Z3 expressions for you automatically, but sometimes they aren't. You can explicitly cast constants when this is the case."
      ]
    },
    {
      "cell_type": "code",
      "execution_count": 10,
      "metadata": {
        "colab": {
          "base_uri": "https://localhost:8080/"
        },
        "id": "FKC4fbGdVQuy",
        "outputId": "1d422885-bafa-4350-a6c6-65a7239fc891"
      },
      "outputs": [
        {
          "output_type": "stream",
          "name": "stdout",
          "text": [
            "True\n",
            "5/2\n",
            "7\n",
            "1/3\n"
          ]
        }
      ],
      "source": [
        "print(BoolVal(True))\n",
        "print(RealVal(2.5))\n",
        "print(IntVal(7))\n",
        "print(Q(1,3))"
      ]
    },
    {
      "cell_type": "markdown",
      "metadata": {
        "id": "-18qC4MvVQuy"
      },
      "source": [
        "## Constraints / operations\n",
        "\n",
        "Operations and constraints in Z3 are built mostly by overloading the ordinary python operations. There is a good chance you can guess what the right operator is. All operations are also available as capitalized functions."
      ]
    },
    {
      "cell_type": "code",
      "execution_count": 11,
      "metadata": {
        "colab": {
          "base_uri": "https://localhost:8080/"
        },
        "id": "lNeuAMiqVQuy",
        "outputId": "d0ee671e-cf20-4b88-9fd2-5d6456605a49"
      },
      "outputs": [
        {
          "output_type": "stream",
          "name": "stdout",
          "text": [
            "x + x\n",
            "x*x\n",
            "x**4\n",
            "And(p, q)\n",
            "And(p, q, r)\n",
            "Or(p, q)\n",
            "Implies(p, q)\n",
            "Xor(p, q)\n",
            "Not(p)\n",
            "x == x\n",
            "x != x\n",
            "3 >= x\n",
            "Or(x < 3, x == 3, x > 3)\n"
          ]
        }
      ],
      "source": [
        "# Common numerical operations\n",
        "print(x + x) # addition\n",
        "print(x * x) # multiplication\n",
        "print(x ** 4) # fourth power of x\n",
        "\n",
        "# Common boolean operations\n",
        "print(And(p,q))\n",
        "print(And(p,q,r)) # some can accept more than one argument for convenience.\n",
        "print(Or(p,q))\n",
        "print(Implies(p,q))\n",
        "print(Xor(p,q))\n",
        "print(Not(p))\n",
        "\n",
        "# Constraints\n",
        "print(x == x) #equal\n",
        "print(x != x) # not equal\n",
        "print(x <= RealVal(3)) # inequality\n",
        "print(Or( x < 3,  x == 3, x > 3  )) # Constraints are operations into booleans\n",
        "\n",
        "# And many more! Look in the API docs for others https://z3prover.github.io/api/html/namespacez3py.html"
      ]
    },
    {
      "cell_type": "markdown",
      "metadata": {
        "id": "0n8zu-_UVQuy"
      },
      "source": [
        "Now that we've shown some of the basics, you're ready to try something simple on your own\n",
        "\n",
        "### Exercise 1\n",
        "Get a root of the polynomial `x**3 + 3*x**2 + 4*x + 2 == 0` using z3. Can you use z3 to show this is the only solution?"
      ]
    },
    {
      "cell_type": "code",
      "execution_count": 18,
      "metadata": {
        "colab": {
          "base_uri": "https://localhost:8080/",
          "height": 430
        },
        "id": "ciKtXUXPVQuy",
        "outputId": "e9a854d3-3f09-4a9c-90a3-79e32e50833f"
      },
      "outputs": [
        {
          "output_type": "display_data",
          "data": {
            "text/plain": [
              "<Figure size 640x480 with 1 Axes>"
            ],
            "image/png": "[encoded data removed]"
          },
          "metadata": {}
        }
      ],
      "source": [
        "# Let's take a look\n",
        "import numpy as np\n",
        "import matplotlib.pyplot as plt\n",
        "xs = np.linspace(-3,3,200)\n",
        "plt.plot(xs,xs**3 + 3*xs**2 + 4*xs + 2)\n",
        "plt.show()"
      ]
    },
    {
      "cell_type": "code",
      "execution_count": 25,
      "metadata": {
        "colab": {
          "base_uri": "https://localhost:8080/"
        },
        "id": "ZnHAhJz8VQuy",
        "outputId": "d73805ad-55a1-459a-94c7-05466ea7188e"
      },
      "outputs": [
        {
          "output_type": "stream",
          "name": "stdout",
          "text": [
            "sat\n",
            "[x = -1]\n",
            "no solution\n",
            "no solution\n",
            "proved\n",
            "[y = 1, x = -1]\n",
            "counterexample\n",
            "[x = 1]\n"
          ]
        }
      ],
      "source": [
        "# FILL IN\n",
        "\n",
        "x, y = Reals(\"x y\")\n",
        "s = Solver()\n",
        "s.add(x**3 + 3*x**2 + 4*x + 2 == 0)\n",
        "\n",
        "print(s.check())\n",
        "print(s.model())\n",
        "\n",
        "solve(x**3 + 3*x**2 + 4*x + 2 == 0, x != -1)\n",
        "\n",
        "solve(x**3 + 3*x**2 + 4*x + 2 == 0, y**3 + 3*y**2 + 4*y + 2 == 0, x != y)\n",
        "\n",
        "prove(Implies(x**3 + 3*x**2 + 4*x + 2 == 0, x == -1))\n",
        "\n",
        "solve(x**2 == 1, y**2 == 1, x != y)\n",
        "prove(Implies(x**2 == 1, x == -1))"
      ]
    },
    {
      "cell_type": "markdown",
      "metadata": {
        "id": "-6cV9GdPVQuz"
      },
      "source": [
        "### * General purpose python exploration tricks\n",
        "\n",
        "I find it extremely useful to explore libraries interatively in python. It is often faster and more honest than looking up the documenation."
      ]
    },
    {
      "cell_type": "code",
      "execution_count": 14,
      "metadata": {
        "scrolled": true,
        "collapsed": true,
        "colab": {
          "base_uri": "https://localhost:8080/"
        },
        "id": "kxmSfDpxVQuz",
        "outputId": "ff29c301-ee1d-4e0d-a837-1c2879562e64"
      },
      "outputs": [
        {
          "output_type": "stream",
          "name": "stdout",
          "text": [
            "Help on ArithRef in module z3.z3 object:\n",
            "\n",
            "class ArithRef(ExprRef)\n",
            " |  ArithRef(ast, ctx=None)\n",
            " |  \n",
            " |  Integer and Real expressions.\n",
            " |  \n",
            " |  Method resolution order:\n",
            " |      ArithRef\n",
            " |      ExprRef\n",
            " |      AstRef\n",
            " |      Z3PPObject\n",
            " |      builtins.object\n",
            " |  \n",
            " |  Methods defined here:\n",
            " |  \n",
            " |  __add__(self, other)\n",
            " |      Create the Z3 expression `self + other`.\n",
            " |      \n",
            " |      >>> x = Int('x')\n",
            " |      >>> y = Int('y')\n",
            " |      >>> x + y\n",
            " |      x + y\n",
            " |      >>> (x + y).sort()\n",
            " |      Int\n",
            " |  \n",
            " |  __div__(self, other)\n",
            " |      Create the Z3 expression `other/self`.\n",
            " |      \n",
            " |      >>> x = Int('x')\n",
            " |      >>> y = Int('y')\n",
            " |      >>> x/y\n",
            " |      x/y\n",
            " |      >>> (x/y).sort()\n",
            " |      Int\n",
            " |      >>> (x/y).sexpr()\n",
            " |      '(div x y)'\n",
            " |      >>> x = Real('x')\n",
            " |      >>> y = Real('y')\n",
            " |      >>> x/y\n",
            " |      x/y\n",
            " |      >>> (x/y).sort()\n",
            " |      Real\n",
            " |      >>> (x/y).sexpr()\n",
            " |      '(/ x y)'\n",
            " |  \n",
            " |  __ge__(self, other)\n",
            " |      Create the Z3 expression `other >= self`.\n",
            " |      \n",
            " |      >>> x, y = Ints('x y')\n",
            " |      >>> x >= y\n",
            " |      x >= y\n",
            " |      >>> y = Real('y')\n",
            " |      >>> x >= y\n",
            " |      ToReal(x) >= y\n",
            " |  \n",
            " |  __gt__(self, other)\n",
            " |      Create the Z3 expression `other > self`.\n",
            " |      \n",
            " |      >>> x, y = Ints('x y')\n",
            " |      >>> x > y\n",
            " |      x > y\n",
            " |      >>> y = Real('y')\n",
            " |      >>> x > y\n",
            " |      ToReal(x) > y\n",
            " |  \n",
            " |  __le__(self, other)\n",
            " |      Create the Z3 expression `other <= self`.\n",
            " |      \n",
            " |      >>> x, y = Ints('x y')\n",
            " |      >>> x <= y\n",
            " |      x <= y\n",
            " |      >>> y = Real('y')\n",
            " |      >>> x <= y\n",
            " |      ToReal(x) <= y\n",
            " |  \n",
            " |  __lt__(self, other)\n",
            " |      Create the Z3 expression `other < self`.\n",
            " |      \n",
            " |      >>> x, y = Ints('x y')\n",
            " |      >>> x < y\n",
            " |      x < y\n",
            " |      >>> y = Real('y')\n",
            " |      >>> x < y\n",
            " |      ToReal(x) < y\n",
            " |  \n",
            " |  __mod__(self, other)\n",
            " |      Create the Z3 expression `other%self`.\n",
            " |      \n",
            " |      >>> x = Int('x')\n",
            " |      >>> y = Int('y')\n",
            " |      >>> x % y\n",
            " |      x%y\n",
            " |      >>> simplify(IntVal(10) % IntVal(3))\n",
            " |      1\n",
            " |  \n",
            " |  __mul__(self, other)\n",
            " |      Create the Z3 expression `self * other`.\n",
            " |      \n",
            " |      >>> x = Real('x')\n",
            " |      >>> y = Real('y')\n",
            " |      >>> x * y\n",
            " |      x*y\n",
            " |      >>> (x * y).sort()\n",
            " |      Real\n",
            " |  \n",
            " |  __neg__(self)\n",
            " |      Return an expression representing `-self`.\n",
            " |      \n",
            " |      >>> x = Int('x')\n",
            " |      >>> -x\n",
            " |      -x\n",
            " |      >>> simplify(-(-x))\n",
            " |      x\n",
            " |  \n",
            " |  __pos__(self)\n",
            " |      Return `self`.\n",
            " |      \n",
            " |      >>> x = Int('x')\n",
            " |      >>> +x\n",
            " |      x\n",
            " |  \n",
            " |  __pow__(self, other)\n",
            " |      Create the Z3 expression `self**other` (** is the power operator).\n",
            " |      \n",
            " |      >>> x = Real('x')\n",
            " |      >>> x**3\n",
            " |      x**3\n",
            " |      >>> (x**3).sort()\n",
            " |      Real\n",
            " |      >>> simplify(IntVal(2)**8)\n",
            " |      256\n",
            " |  \n",
            " |  __radd__(self, other)\n",
            " |      Create the Z3 expression `other + self`.\n",
            " |      \n",
            " |      >>> x = Int('x')\n",
            " |      >>> 10 + x\n",
            " |      10 + x\n",
            " |  \n",
            " |  __rdiv__(self, other)\n",
            " |      Create the Z3 expression `other/self`.\n",
            " |      \n",
            " |      >>> x = Int('x')\n",
            " |      >>> 10/x\n",
            " |      10/x\n",
            " |      >>> (10/x).sexpr()\n",
            " |      '(div 10 x)'\n",
            " |      >>> x = Real('x')\n",
            " |      >>> 10/x\n",
            " |      10/x\n",
            " |      >>> (10/x).sexpr()\n",
            " |      '(/ 10.0 x)'\n",
            " |  \n",
            " |  __rmod__(self, other)\n",
            " |      Create the Z3 expression `other%self`.\n",
            " |      \n",
            " |      >>> x = Int('x')\n",
            " |      >>> 10 % x\n",
            " |      10%x\n",
            " |  \n",
            " |  __rmul__(self, other)\n",
            " |      Create the Z3 expression `other * self`.\n",
            " |      \n",
            " |      >>> x = Real('x')\n",
            " |      >>> 10 * x\n",
            " |      10*x\n",
            " |  \n",
            " |  __rpow__(self, other)\n",
            " |      Create the Z3 expression `other**self` (** is the power operator).\n",
            " |      \n",
            " |      >>> x = Real('x')\n",
            " |      >>> 2**x\n",
            " |      2**x\n",
            " |      >>> (2**x).sort()\n",
            " |      Real\n",
            " |      >>> simplify(2**IntVal(8))\n",
            " |      256\n",
            " |  \n",
            " |  __rsub__(self, other)\n",
            " |      Create the Z3 expression `other - self`.\n",
            " |      \n",
            " |      >>> x = Int('x')\n",
            " |      >>> 10 - x\n",
            " |      10 - x\n",
            " |  \n",
            " |  __rtruediv__(self, other)\n",
            " |      Create the Z3 expression `other/self`.\n",
            " |  \n",
            " |  __sub__(self, other)\n",
            " |      Create the Z3 expression `self - other`.\n",
            " |      \n",
            " |      >>> x = Int('x')\n",
            " |      >>> y = Int('y')\n",
            " |      >>> x - y\n",
            " |      x - y\n",
            " |      >>> (x - y).sort()\n",
            " |      Int\n",
            " |  \n",
            " |  __truediv__(self, other)\n",
            " |      Create the Z3 expression `other/self`.\n",
            " |  \n",
            " |  is_int(self)\n",
            " |      Return `True` if `self` is an integer expression.\n",
            " |      \n",
            " |      >>> x = Int('x')\n",
            " |      >>> x.is_int()\n",
            " |      True\n",
            " |      >>> (x + 1).is_int()\n",
            " |      True\n",
            " |      >>> y = Real('y')\n",
            " |      >>> (x + y).is_int()\n",
            " |      False\n",
            " |  \n",
            " |  is_real(self)\n",
            " |      Return `True` if `self` is an real expression.\n",
            " |      \n",
            " |      >>> x = Real('x')\n",
            " |      >>> x.is_real()\n",
            " |      True\n",
            " |      >>> (x + 1).is_real()\n",
            " |      True\n",
            " |  \n",
            " |  sort(self)\n",
            " |      Return the sort (type) of the arithmetical expression `self`.\n",
            " |      \n",
            " |      >>> Int('x').sort()\n",
            " |      Int\n",
            " |      >>> (Real('x') + 1).sort()\n",
            " |      Real\n",
            " |  \n",
            " |  ----------------------------------------------------------------------\n",
            " |  Methods inherited from ExprRef:\n",
            " |  \n",
            " |  __eq__(self, other)\n",
            " |      Return a Z3 expression that represents the constraint `self == other`.\n",
            " |      \n",
            " |      If `other` is `None`, then this method simply returns `False`.\n",
            " |      \n",
            " |      >>> a = Int('a')\n",
            " |      >>> b = Int('b')\n",
            " |      >>> a == b\n",
            " |      a == b\n",
            " |      >>> a is None\n",
            " |      False\n",
            " |  \n",
            " |  __hash__(self)\n",
            " |      Hash code.\n",
            " |  \n",
            " |  __ne__(self, other)\n",
            " |      Return a Z3 expression that represents the constraint `self != other`.\n",
            " |      \n",
            " |      If `other` is `None`, then this method simply returns `True`.\n",
            " |      \n",
            " |      >>> a = Int('a')\n",
            " |      >>> b = Int('b')\n",
            " |      >>> a != b\n",
            " |      a != b\n",
            " |      >>> a is not None\n",
            " |      True\n",
            " |  \n",
            " |  arg(self, idx)\n",
            " |      Return argument `idx` of the application `self`.\n",
            " |      \n",
            " |      This method assumes that `self` is a function application with at least `idx+1` arguments.\n",
            " |      \n",
            " |      >>> a = Int('a')\n",
            " |      >>> b = Int('b')\n",
            " |      >>> f = Function('f', IntSort(), IntSort(), IntSort(), IntSort())\n",
            " |      >>> t = f(a, b, 0)\n",
            " |      >>> t.arg(0)\n",
            " |      a\n",
            " |      >>> t.arg(1)\n",
            " |      b\n",
            " |      >>> t.arg(2)\n",
            " |      0\n",
            " |  \n",
            " |  as_ast(self)\n",
            " |      Return a pointer to the corresponding C Z3_ast object.\n",
            " |  \n",
            " |  children(self)\n",
            " |      Return a list containing the children of the given expression\n",
            " |      \n",
            " |      >>> a = Int('a')\n",
            " |      >>> b = Int('b')\n",
            " |      >>> f = Function('f', IntSort(), IntSort(), IntSort(), IntSort())\n",
            " |      >>> t = f(a, b, 0)\n",
            " |      >>> t.children()\n",
            " |      [a, b, 0]\n",
            " |  \n",
            " |  decl(self)\n",
            " |      Return the Z3 function declaration associated with a Z3 application.\n",
            " |      \n",
            " |      >>> f = Function('f', IntSort(), IntSort())\n",
            " |      >>> a = Int('a')\n",
            " |      >>> t = f(a)\n",
            " |      >>> eq(t.decl(), f)\n",
            " |      True\n",
            " |      >>> (a + 1).decl()\n",
            " |      +\n",
            " |  \n",
            " |  from_string(self, s)\n",
            " |  \n",
            " |  get_id(self)\n",
            " |      Return unique identifier for object. It can be used for hash-tables and maps.\n",
            " |  \n",
            " |  num_args(self)\n",
            " |      Return the number of arguments of a Z3 application.\n",
            " |      \n",
            " |      >>> a = Int('a')\n",
            " |      >>> b = Int('b')\n",
            " |      >>> (a + b).num_args()\n",
            " |      2\n",
            " |      >>> f = Function('f', IntSort(), IntSort(), IntSort(), IntSort())\n",
            " |      >>> t = f(a, b, 0)\n",
            " |      >>> t.num_args()\n",
            " |      3\n",
            " |  \n",
            " |  params(self)\n",
            " |  \n",
            " |  serialize(self)\n",
            " |  \n",
            " |  sort_kind(self)\n",
            " |      Shorthand for `self.sort().kind()`.\n",
            " |      \n",
            " |      >>> a = Array('a', IntSort(), IntSort())\n",
            " |      >>> a.sort_kind() == Z3_ARRAY_SORT\n",
            " |      True\n",
            " |      >>> a.sort_kind() == Z3_INT_SORT\n",
            " |      False\n",
            " |  \n",
            " |  ----------------------------------------------------------------------\n",
            " |  Methods inherited from AstRef:\n",
            " |  \n",
            " |  __bool__(self)\n",
            " |  \n",
            " |  __copy__(self)\n",
            " |  \n",
            " |  __deepcopy__(self, memo={})\n",
            " |  \n",
            " |  __del__(self)\n",
            " |  \n",
            " |  __init__(self, ast, ctx=None)\n",
            " |      Initialize self.  See help(type(self)) for accurate signature.\n",
            " |  \n",
            " |  __nonzero__(self)\n",
            " |  \n",
            " |  __repr__(self)\n",
            " |      Return repr(self).\n",
            " |  \n",
            " |  __str__(self)\n",
            " |      Return str(self).\n",
            " |  \n",
            " |  ctx_ref(self)\n",
            " |      Return a reference to the C context where this AST node is stored.\n",
            " |  \n",
            " |  eq(self, other)\n",
            " |      Return `True` if `self` and `other` are structurally identical.\n",
            " |      \n",
            " |      >>> x = Int('x')\n",
            " |      >>> n1 = x + 1\n",
            " |      >>> n2 = 1 + x\n",
            " |      >>> n1.eq(n2)\n",
            " |      False\n",
            " |      >>> n1 = simplify(n1)\n",
            " |      >>> n2 = simplify(n2)\n",
            " |      >>> n1.eq(n2)\n",
            " |      True\n",
            " |  \n",
            " |  hash(self)\n",
            " |      Return a hashcode for the `self`.\n",
            " |      \n",
            " |      >>> n1 = simplify(Int('x') + 1)\n",
            " |      >>> n2 = simplify(2 + Int('x') - 1)\n",
            " |      >>> n1.hash() == n2.hash()\n",
            " |      True\n",
            " |  \n",
            " |  sexpr(self)\n",
            " |      Return a string representing the AST node in s-expression notation.\n",
            " |      \n",
            " |      >>> x = Int('x')\n",
            " |      >>> ((x + 1)*x).sexpr()\n",
            " |      '(* (+ x 1) x)'\n",
            " |  \n",
            " |  translate(self, target)\n",
            " |      Translate `self` to the context `target`. That is, return a copy of `self` in the context `target`.\n",
            " |      \n",
            " |      >>> c1 = Context()\n",
            " |      >>> c2 = Context()\n",
            " |      >>> x  = Int('x', c1)\n",
            " |      >>> y  = Int('y', c2)\n",
            " |      >>> # Nodes in different contexts can't be mixed.\n",
            " |      >>> # However, we can translate nodes from one context to another.\n",
            " |      >>> x.translate(c2) + y\n",
            " |      x + y\n",
            " |  \n",
            " |  ----------------------------------------------------------------------\n",
            " |  Methods inherited from Z3PPObject:\n",
            " |  \n",
            " |  use_pp(self)\n",
            " |  \n",
            " |  ----------------------------------------------------------------------\n",
            " |  Data descriptors inherited from Z3PPObject:\n",
            " |  \n",
            " |  __dict__\n",
            " |      dictionary for instance variables (if defined)\n",
            " |  \n",
            " |  __weakref__\n",
            " |      list of weak references to the object (if defined)\n",
            "\n"
          ]
        },
        {
          "output_type": "execute_result",
          "data": {
            "text/plain": [
              "['__add__',\n",
              " '__bool__',\n",
              " '__class__',\n",
              " '__copy__',\n",
              " '__deepcopy__',\n",
              " '__del__',\n",
              " '__delattr__',\n",
              " '__dict__',\n",
              " '__dir__',\n",
              " '__div__',\n",
              " '__doc__',\n",
              " '__eq__',\n",
              " '__format__',\n",
              " '__ge__',\n",
              " '__getattribute__',\n",
              " '__gt__',\n",
              " '__hash__',\n",
              " '__init__',\n",
              " '__init_subclass__',\n",
              " '__le__',\n",
              " '__lt__',\n",
              " '__mod__',\n",
              " '__module__',\n",
              " '__mul__',\n",
              " '__ne__',\n",
              " '__neg__',\n",
              " '__new__',\n",
              " '__nonzero__',\n",
              " '__pos__',\n",
              " '__pow__',\n",
              " '__radd__',\n",
              " '__rdiv__',\n",
              " '__reduce__',\n",
              " '__reduce_ex__',\n",
              " '__repr__',\n",
              " '__rmod__',\n",
              " '__rmul__',\n",
              " '__rpow__',\n",
              " '__rsub__',\n",
              " '__rtruediv__',\n",
              " '__setattr__',\n",
              " '__sizeof__',\n",
              " '__str__',\n",
              " '__sub__',\n",
              " '__subclasshook__',\n",
              " '__truediv__',\n",
              " '__weakref__',\n",
              " '_repr_html_',\n",
              " 'arg',\n",
              " 'as_ast',\n",
              " 'ast',\n",
              " 'children',\n",
              " 'ctx',\n",
              " 'ctx_ref',\n",
              " 'decl',\n",
              " 'eq',\n",
              " 'from_string',\n",
              " 'get_id',\n",
              " 'hash',\n",
              " 'is_int',\n",
              " 'is_real',\n",
              " 'num_args',\n",
              " 'params',\n",
              " 'serialize',\n",
              " 'sexpr',\n",
              " 'sort',\n",
              " 'sort_kind',\n",
              " 'translate',\n",
              " 'use_pp']"
            ]
          },
          "metadata": {},
          "execution_count": 14
        }
      ],
      "source": [
        "p = Real(\"p\") # Define the z3 expression of Real constant value 3.\n",
        "type(p) # What is the type of this thing\n",
        "help(p) # What is the documentation. z3 has quite lovely documentation actually.\n",
        "dir(p) # Does this thing have any suspicious looking functions?"
      ]
    },
    {
      "cell_type": "markdown",
      "metadata": {
        "id": "1AOrqaxPVQuz"
      },
      "source": [
        "### * Getting Values out of Z3 models\n",
        "\n",
        "Z3 has a number of helper functions like `solve` above, but a more powerful interface is through the Solver class"
      ]
    },
    {
      "cell_type": "code",
      "execution_count": 15,
      "metadata": {
        "colab": {
          "base_uri": "https://localhost:8080/"
        },
        "id": "Ldz7aKOiVQuz",
        "outputId": "c5880413-1ad9-4077-ecaa-dad1b06f76e6"
      },
      "outputs": [
        {
          "output_type": "stream",
          "name": "stdout",
          "text": [
            "sat\n",
            "2\n",
            "0.3333333333333333\n",
            "3735928559\n",
            "True\n",
            "sat\n",
            "-3109888511975/2199023255552\n",
            "-1.414213562372879\n"
          ]
        }
      ],
      "source": [
        "x = Int(\"x\")\n",
        "y = Real(\"y\")\n",
        "z = Real(\"z\")\n",
        "p = Bool(\"p\")\n",
        "a = BitVec(\"a\",32)\n",
        "\n",
        "s = Solver()\n",
        "s.add(x == 2)\n",
        "s.add(y == 1/3)\n",
        "s.add(p == True)\n",
        "s.add(a == 0xDEADBEEF)\n",
        "print(s.check())\n",
        "m = s.model()\n",
        "\n",
        "print(m[x].as_long())\n",
        "print(m[y].numerator_as_long() / m[y].denominator_as_long())\n",
        "print(m[a].as_long())\n",
        "print(bool(m[p]))\n",
        "\n",
        "m.eval(2*x + 1) # you can also evaluate z3 expressions in the context of the model\n",
        "\n",
        "s = Solver()\n",
        "s.add(z ** 2 == 2)\n",
        "print(s.check())\n",
        "m = s.model()\n",
        "print(m[z].approx())\n",
        "print(m[z].approx().numerator_as_long() / m[z].approx().denominator_as_long())"
      ]
    },
    {
      "cell_type": "markdown",
      "metadata": {
        "id": "M1QbSp3yVQuz"
      },
      "source": [
        "### * Conversion Functions\n",
        "\n",
        "It is useful to sometimes convert between sorts. There are conversion functions for that for many different sorts. Here is a simple example."
      ]
    },
    {
      "cell_type": "code",
      "execution_count": 16,
      "metadata": {
        "colab": {
          "base_uri": "https://localhost:8080/",
          "height": 34
        },
        "id": "vOI_SdcGVQuz",
        "outputId": "d4e999a9-e9d7-4ff1-9edd-4f3bd3303fec"
      },
      "outputs": [
        {
          "output_type": "execute_result",
          "data": {
            "text/plain": [
              "ToInt(y)"
            ],
            "text/html": [
              "ToInt(y)"
            ]
          },
          "metadata": {},
          "execution_count": 16
        }
      ],
      "source": [
        "x = Int(\"x\")\n",
        "y = Real(\"y\")\n",
        "ToReal(x)\n",
        "ToInt(y)"
      ]
    },
    {
      "cell_type": "markdown",
      "metadata": {
        "id": "L98ImKZaVQuz"
      },
      "source": [
        "### * Simplifying expressions with z3"
      ]
    },
    {
      "cell_type": "markdown",
      "metadata": {
        "id": "5lL-bKw_VQuz"
      },
      "source": [
        "Z3 can be used to simplify expressions similar to how one might use sympy or mathematica."
      ]
    },
    {
      "cell_type": "code",
      "execution_count": 17,
      "metadata": {
        "colab": {
          "base_uri": "https://localhost:8080/"
        },
        "id": "80kkRdn-VQuz",
        "outputId": "1f06d593-604f-4a51-c1aa-bbd014d142eb"
      },
      "outputs": [
        {
          "output_type": "stream",
          "name": "stdout",
          "text": [
            "3 + 3*x + y\n",
            "Not(y <= -2)\n",
            "And(x >= 2, 2*x**2 + y**2 >= 3)\n"
          ]
        }
      ],
      "source": [
        "x = Int('x')\n",
        "y = Int('y')\n",
        "print(simplify(x + y + 2*x + 3))\n",
        "print(simplify(x < y + x + 2))\n",
        "print(simplify(And(x + 1 >= 3, x**2 + x**2 + y**2 + 2 >= 5)))"
      ]
    },
    {
      "cell_type": "markdown",
      "metadata": {
        "id": "xUVc-V63VQuz"
      },
      "source": [
        "### * Fresh Variable Names\n",
        "It can be useful to generate variables with fresh names, especially when building problems programmatically. Z3 has built in functionality for this."
      ]
    },
    {
      "cell_type": "code",
      "execution_count": 26,
      "metadata": {
        "scrolled": true,
        "colab": {
          "base_uri": "https://localhost:8080/"
        },
        "id": "y_THclBzVQuz",
        "outputId": "3c16c1a2-bb73-4050-c0db-c2816bf02ad3"
      },
      "outputs": [
        {
          "output_type": "stream",
          "name": "stdout",
          "text": [
            "x!0\n",
            "b!1\n",
            "f!2\n"
          ]
        }
      ],
      "source": [
        "print(FreshReal(prefix=\"x\"))\n",
        "print(FreshBool(prefix=\"b\"))\n",
        "print(FreshConst(IntSort() , prefix=\"f\"))"
      ]
    },
    {
      "cell_type": "markdown",
      "metadata": {
        "id": "r4T6velTVQuz"
      },
      "source": [
        "### Useful Documentation\n",
        "\n",
        "Now that we have a simple example, let's look at where we can go to find out more\n",
        "\n",
        "- The API docs: https://z3prover.github.io/api/html/namespacez3py.html\n",
        "- https://rise4fun.com/z3/tutorial has an interactive tutorial in z3. It uses the smt-lib2 input language, not python\n",
        "- https://ericpony.github.io/z3py-tutorial/guide-examples.htm A tutorial for the python bindings upon which this tutorial is heavily based\n",
        "\n"
      ]
    },
    {
      "cell_type": "markdown",
      "metadata": {
        "id": "XtHe642LVQuz"
      },
      "source": [
        "# Using Z3 To Find Stuff\n",
        "\n",
        "Z3 is from one perspective just executing a flexible and fast search similar to constraint satisfaction solvers, SAT solvers, and computer algebra systems. You can use Z3 to solve puzzles like Sudoku and Nonograms.\n",
        "It isn't just fun and games, there are many practical usages of such things (it's a whole industry).\n",
        " - Graph Coloring (Useful for register allocation for example)\n",
        " - Scheduling Problems\n",
        " - Routing problems\n",
        " - etc.\n"
      ]
    },
    {
      "cell_type": "markdown",
      "metadata": {
        "id": "1VxSikFdVQu0"
      },
      "source": [
        "## 8 Queens\n",
        "\n",
        "The eight queens puzzle is the problem of placing eight chess queens on an 8x8 chessboard so that no two queens attack each other. Thus, a solution requires that no two queens share the same row, column, or diagonal."
      ]
    },
    {
      "cell_type": "code",
      "execution_count": 27,
      "metadata": {
        "colab": {
          "base_uri": "https://localhost:8080/"
        },
        "id": "RAEsBdG9VQu0",
        "outputId": "f07e1366-e4af-4b1a-cdb2-6f3b4c1e84b6"
      },
      "outputs": [
        {
          "output_type": "stream",
          "name": "stdout",
          "text": [
            "[Q_3 = 2,\n",
            " Q_1 = 3,\n",
            " Q_7 = 8,\n",
            " Q_8 = 5,\n",
            " Q_5 = 1,\n",
            " Q_4 = 7,\n",
            " Q_2 = 6,\n",
            " Q_6 = 4]\n"
          ]
        }
      ],
      "source": [
        "# We know each queen must be in a different row.\n",
        "# So, we represent each queen by a single integer: the column position\n",
        "Q = [ Int(f\"Q_{row + 1}\") for row in range(8) ]\n",
        "\n",
        "# Each queen is in a column {1, ... 8 }\n",
        "val_c = [ And(1 <= Q[row], Q[row] <= 8) for row in range(8) ]\n",
        "\n",
        "# At most one queen per column\n",
        "col_c = [ Distinct(Q) ]\n",
        "\n",
        "# Diagonal constraint\n",
        "diag_c = [ If(i == j,\n",
        "              True,\n",
        "              And(Q[i] - Q[j] != i - j, Q[i] - Q[j] != j - i))\n",
        "           for i in range(8) for j in range(i) ]\n",
        "\n",
        "solve(val_c + col_c + diag_c)"
      ]
    },
    {
      "cell_type": "code",
      "execution_count": 28,
      "metadata": {
        "colab": {
          "base_uri": "https://localhost:8080/",
          "height": 455
        },
        "id": "N2-oVwdSVQu3",
        "outputId": "2cfa62be-3dce-41e8-8634-4194c3057bae"
      },
      "outputs": [
        {
          "output_type": "execute_result",
          "data": {
            "text/plain": [
              "<matplotlib.image.AxesImage at 0x7b6ec5634760>"
            ]
          },
          "metadata": {},
          "execution_count": 28
        },
        {
          "output_type": "display_data",
          "data": {
            "text/plain": [
              "<Figure size 480x480 with 1 Axes>"
            ],
            "image/png": "[encoded data removed]"
          },
          "metadata": {}
        }
      ],
      "source": [
        "import numpy as np\n",
        "import matplotlib.pyplot as plt\n",
        "\n",
        "s = Solver()\n",
        "s.add(val_c + col_c + diag_c)\n",
        "s.check()\n",
        "m = s.model()\n",
        "board = np.zeros((8,8))\n",
        "\n",
        "for i in range(8):\n",
        "    board[i, m[Q[i]].as_long() - 1] = 1\n",
        "\n",
        "plt.matshow(board)"
      ]
    },
    {
      "cell_type": "markdown",
      "metadata": {
        "id": "m08_p9J7VQu3"
      },
      "source": [
        "## Exercise: Send More Money\n",
        "\n",
        "There is an assignment of unique digits to letters such that the equation `send + more = money` holds. Find an assignment of the digits to make this true.\n",
        "\n",
        "Here we show the longer form interface to the Solver as compared to the `solve` convenience method used above."
      ]
    },
    {
      "cell_type": "code",
      "execution_count": 38,
      "metadata": {
        "colab": {
          "base_uri": "https://localhost:8080/",
          "height": 106
        },
        "id": "Nwu2AArrVQu3",
        "outputId": "32c371bc-15cf-47ea-dd6b-1d939ea87420"
      },
      "outputs": [
        {
          "output_type": "stream",
          "name": "stdout",
          "text": [
            "[n = 6, o = 0, m = 1, r = 8, s = 9, e = 5, y = 2, d = 7]\n",
            "9567\n",
            "1085\n",
            "10652\n"
          ]
        },
        {
          "output_type": "execute_result",
          "data": {
            "text/plain": [
              "Not(And(9 == s,\n",
              "        5 == e,\n",
              "        6 == n,\n",
              "        7 == d,\n",
              "        1 == m,\n",
              "        0 == o,\n",
              "        8 == r,\n",
              "        2 == y))"
            ],
            "text/html": [
              "&not;(9 = s &and;\n",
              "  5 = e &and;\n",
              "  6 = n &and;\n",
              "  7 = d &and;\n",
              "  1 = m &and;\n",
              "  0 = o &and;\n",
              "  8 = r &and;\n",
              "  2 = y)"
            ]
          },
          "metadata": {},
          "execution_count": 38
        }
      ],
      "source": [
        "digits = Ints('s e n d m o r y')\n",
        "s,e,n,d,m,o,r,y = digits\n",
        "send = Sum([10**(3-i) * d for i,d in enumerate([s,e,n,d])]) # convert digits of number to number\n",
        "more = Sum([10**(3-i) * d for i,d in enumerate([m,o,r,e])])\n",
        "money = Sum([10**(4-i) * d for i,d in enumerate([m,o,n,e,y])])\n",
        "\n",
        "solver = Solver()\n",
        "solver.add([s > 0, m > 0]) # first digits are nonzero\n",
        "\n",
        "# Constrain all digits constrained to be 0 through 9\n",
        "# FILL IN\n",
        "solver.add([d >= 0 for d in digits])\n",
        "solver.add([d <= 9 for d in digits])\n",
        "\n",
        "# Constrain all digits to be unique (Hint: Look at the 8-Queens constraints. Anything useful?)\n",
        "# FILL IN\n",
        "solver.add(Distinct(digits))\n",
        "\n",
        "# Constrain send + more == money\n",
        "# FILL IN\n",
        "solver.add(send + more == money)\n",
        "\n",
        "# solver.check()\n",
        "# m = solver.model()\n",
        "# print(m)\n",
        "# print(m.eval(send))\n",
        "# print(m.eval(more))\n",
        "# print(m.eval(money))\n",
        "\n",
        "Not(And([d == m.eval(d) for d in digits]))\n",
        "\n",
        "# for i in range(10):\n",
        "#   res = solver.check()\n",
        "#   if res == sat:\n",
        "#     m = solver.model()\n",
        "#     print(m)\n",
        "#     print(m.eval(send))\n",
        "#     print(m.eval(more))\n",
        "#     print(m.eval(money))\n",
        "#     solver.add(Not(And([d == m.eval(d) for d in digits])))\n",
        "#   else:\n",
        "#     print(\"No more models\")"
      ]
    },
    {
      "cell_type": "markdown",
      "metadata": {
        "id": "NgRyMedYVQu4"
      },
      "source": [
        "## * Robot Arm Inverse Kinematics\n",
        "\n",
        "The inverse kinematics problem is to find the angles of the joints of a robot arm in order to place the hand in some position.\n",
        "You can describe the joint positions using polynomial constraints. Pairs of joints are constrained to be a distance apart equal the the length of that piece of the robot arm. You can also enter inequality constraints (like staying out of the floor) with varying amounts of success."
      ]
    },
    {
      "cell_type": "code",
      "execution_count": null,
      "metadata": {
        "id": "1r-wF4pkVQu4"
      },
      "outputs": [],
      "source": [
        "pos = np.array([  [ Real(f\"x_{(i,j)}\")  for j in range(2)] for i in range(3)])\n",
        "s = Solver()\n",
        "s.add( np.sum(pos[0]**2) == 1 )\n",
        "s.add( np.sum(pos[1]**2) == 1 )\n",
        "s.add( np.sum((pos[2] - pos[0])**2) == 1 )\n",
        "s.add( np.sum((pos[2] - pos[1])**2) == 1 )\n",
        "s.add( pos[2][0] == 0 )\n",
        "s.add( pos[2][1] == 1 )\n",
        "s.check()\n",
        "s.model()"
      ]
    },
    {
      "cell_type": "markdown",
      "metadata": {
        "id": "hv_VTnDlVQu4"
      },
      "source": [
        "\n",
        "## * Discrete Tomography\n",
        "\n",
        "Tomographic reconstruction is an interesting class of problems. One example is x-ray tomography. The data you get out is the integrated extinction of an x-ray along a line going thorugh a patient. From the data of many such lines, one can attempt to back out an image of the x-ray absorption through out the patient.\n",
        "A simplified schematic version of this can be done in a discrete setting. We have a binary image and can collect the sums of horizontal, verticals, and diagonals. Then we ask z3 to find an assignment that satisfies these sum constraints. There may or may not be a unique solution.\n",
        "The problem is related to Picross/Nonograms puzzles.\n"
      ]
    },
    {
      "cell_type": "code",
      "execution_count": null,
      "metadata": {
        "id": "ToEP9eHMVQu4"
      },
      "outputs": [],
      "source": [
        "import numpy as np\n",
        "import matplotlib.pyplot as plt\n",
        "bin_img = np.array([\n",
        "[0,0,0,0,0,0,0],\n",
        "[0,0,1,0,1,0,0],\n",
        "[0,0,1,0,1,0,0],\n",
        "[0,0,0,0,0,0,0],\n",
        "[0,1,0,0,0,1,0],\n",
        "[0,0,1,1,1,0,0],\n",
        "[0,0,0,0,0,0,0]])\n",
        "bin_img = np.hstack([bin_img,bin_img.T])\n",
        "bin_img = np.vstack([bin_img,bin_img])\n",
        "plt.imshow(bin_img)\n",
        "plt.title(\"Original Image\")\n"
      ]
    },
    {
      "cell_type": "code",
      "execution_count": null,
      "metadata": {
        "id": "KOzHJyqNVQu4"
      },
      "outputs": [],
      "source": [
        "rows, cols = bin_img.shape\n",
        "bvars = [[ If(Bool(f\"x_({row},{col})\"), IntVal(1),IntVal(0)) for col in range(cols)] for row in range(rows)]\n",
        "\n",
        "s = SolverFor(\"QF_FD\")\n",
        "# for each row, column sum constraint\n",
        "s.add([Sum(bvars[row]) == IntVal(int(np.sum(bin_img[row,:]))) for row in range(rows)])\n",
        "# for each column, row sum constraint\n",
        "s.add([Sum([bvars[row][col] for row in range(rows)]  ) == IntVal(int(np.sum(bin_img[:,col]))) for col in range(cols)])\n",
        "\n",
        "# diagonal sum constraints\n",
        "for diag in range(rows+cols): # Challenge mode: Can you do this more elegantly and clearly?\n",
        "    s.add(Sum([ bvars[row][col] for row in range(rows) for col in range(cols) if col + row == diag]) == IntVal(int(sum([ bin_img[row,col] for row in range(rows) for col in range(cols) if col + row == diag]))))\n",
        "    s.add(Sum([ bvars[row][col] for row in range(rows) for col in range(cols) if col - row == diag - rows +1]) == IntVal(int(sum([ bin_img[row,col] for row in range(rows) for col in range(cols) if col - row == diag - rows + 1]))))\n",
        "for i in range(50):  # loop through all solutions\n",
        "    res = s.check()\n",
        "    if res == sat:\n",
        "        m = s.model()\n",
        "        sol = [[m.eval(s).as_long() for s in row] for row in bvars]\n",
        "        plt.figure()\n",
        "        plt.imshow(sol)\n",
        "        plt.title(\"Reconstructed Image\")\n",
        "        s.add(Not(And([  And([v == m.eval(v) for v in row]) for row in bvars])))\n",
        "    else:\n",
        "        print(\"No more models\")"
      ]
    },
    {
      "cell_type": "markdown",
      "metadata": {
        "id": "hwHAL0NXVQu4"
      },
      "source": [
        "# Interlude: A Rough Sketch of How Z3 works\n",
        "\n",
        "It is very useful to have at least a simplistic mental model of how a tool works, so that you can predict the places where it might run into difficulty, or formulate your problem in a way amenable to the solver.\n",
        "\n",
        "Z3 (and other related SMT solvers) are built around the core concept of a SAT solver, so let's discuss that first.\n",
        "\n",
        "## SAT Solving\n",
        "\n",
        "A propositional logical formula is the combination of variables using the boolean connectives And, Or, Implies, and Not. Here is a propositional formula over variables p, q, r, and w in mathematical notation.\n",
        "\n",
        "$$ (p \\lor q) \\land (q \\lor \\neg w) \\land (w \\lor r \\lor p) \\land (r \\lor \\neg w) $$\n",
        "\n",
        "If we assign values to the variables, we can evaluate the formula to determine if the whole thing evaulates to true or false. In this sense, formulas are like boolean circuits. Here for example, is a python function that evaluates a boolean formula.\n",
        "\n",
        "```python\n",
        "def foo(p,q,r,w):\n",
        "    return (p or q) and (q or not w) and (w or r or p) and (r or not w)\n",
        "```\n",
        "\n",
        "One useful question we can ask about a propositional formula is if it is satisfiable. Satisfiable means there exists an assignment of the boolean variables to true and false values that makes the entire formula evaluate to true. For a circuit, this is deductively running it backwards to find an input, something that they are physically designed not to do.\n",
        "\n",
        "Specialized solvers for this question are called SAT solvers, one of which is at the core of z3. Here is a Z3 query that just sticks to the SAT fragment of its capabilities.\n",
        "\n",
        "```python\n",
        "p,q,r,w = Bools(\"p q r w\")\n",
        "solve( And( [Or(p,q), Or(q, Not(w)), Or(w, r, p), Or(r, Not(w))  ] ))\n",
        "```\n",
        "\n",
        "Given a satisfying solution, it is quite easy and efficient to check if it is indeed a satisfying solution by merely plugging the solution. It is this property that puts the SAT problem into complexity class NP.\n",
        "\n",
        "In principle, one can answer the SAT question by a brute force search (a giant nested set of `for` loops), enumerating every possible combination of true/false the variables can take on.\n",
        "\n",
        "However, for every new variable we add the size of the space we are searching is multiplied by 2. Thus brute force becomes an unacceptable approach for a number of variables well below 100.\n",
        "\n",
        "Instead SAT solvers search the space more carefully, trying to deduce and propagate information in a manner somewhat similar to how a human solves a Sudoku puzzle.\n",
        "\n",
        "A revolution in the power of SAT solvers occurred in the 90s/00s where new techniques were found, some of the most prominent of which are backjumping, the two watched literal technique, conflict directed clause learning, and random restarts. An interesting resource to learn more https://www.youtube.com/watch?v=II2RhzwYszQ&ab_channel=SimonsInstitute\n",
        "\n",
        "There are surprising number of useful and interesting questions one can encode into this form to leverage the power of SAT solvers. One very natural application is hardware verification of logical circuits. It is often very useful to even _try_ to twist a problem into a SAT solvable form, because off the shelf solvers have become so good. SAT solvers have even been used to prove previously unproven mathematical conjectures.\n",
        "\n",
        "## SMT solving\n",
        "\n",
        "There are two layers the SMT solver is working at. There may be complex boolean logical structure amenable to a pure SAT solver, but then there is also domain specific structure about the integers, reals, uninterpeted formulas, etc.\n",
        "\n",
        "We can abstract all complex domain specific facts like the truth of $x + y \\ge 7$ as an opaque boolean variables $p$. We then use the technques of SAT solvers to find a satisfying assignment of these variables. But there are implicit constraints required by the actual interpretation of the boolean variables that may not have been apparent to just the SAT search. So we take the truth assignment and query a theory specific solver to see if that particular assignment is possible. If it is, we are done. If it is not, there is a reason it is not. We add this reason to our boolean formula and iterate.\n",
        "\n",
        "This is where the intimidating name Satisfiability Modulo Theories comes from. The solver is solving SAT problems, but only accepting solutions that also make sense in underlying domain specific theories (\"modulo-ing\" those solutions out).\n",
        "\n",
        "In actual SMT solvers, there is no reason to not use domain specific information much earlier than after a full boolean assignment. The only objective is to do things that are logically correct and as fast as possible. The SAT solving and the domain specific querying may be very tightly interwoven.\n",
        "\n",
        "It is helpful to know these things so that you can have some intuition for what Z3 might like or not like. Z3 will likes conjunction (ANDs) formulas. Every disjunction (Or) tends to add branching behavior where Z3 has to pick which one it wants to be true. Z3 has built in procedures and understanding of\n",
        "\n",
        "- propositional logic via SAT solving\n",
        "- linear equations $3x+ 4y == 7$\n",
        "- linear inequalities  $ 3x + 4y <= 7$\n",
        "- Bitvectors, which can also be reduced to SAT by bit-blasting as a last resort.\n",
        "- Arrays\n",
        "- Algebraic Data Types\n",
        "- Uninterpeted Functions\n",
        "- polynomial equalities $x^2 + y^2 == 2$\n",
        "\n",
        "These pieces give a very powerful and surprisingly flexible base to work from.\n",
        "\n",
        "## What Z3 Can't Do\n",
        "\n",
        "Z3 seems incredibly powerful, and it is. However, you can express far more things to Z3 than it can solve. I've been cherry picking problems I know it handles well.\n",
        "\n",
        "As an example, factoring integers is at the heart of RSA cryptography. While Z3 can factor integers, it can't magically factor even moderately big numbers."
      ]
    },
    {
      "cell_type": "code",
      "execution_count": null,
      "metadata": {
        "id": "8OqmaNCyVQu4",
        "outputId": "d0830e55-43df-4342-b1a6-e780df7f6434"
      },
      "outputs": [
        {
          "name": "stdout",
          "output_type": "stream",
          "text": [
            "[y = 7, x = 3]\n"
          ]
        }
      ],
      "source": [
        "x,y = Ints(\"x y\")\n",
        "pubkey = 3\t* 7\n",
        "solve(x * y == pubkey, x > 1, y > 1) # easy peasy"
      ]
    },
    {
      "cell_type": "code",
      "execution_count": null,
      "metadata": {
        "id": "omvcxrDIVQu4",
        "outputId": "ac7f6bb0-44f2-41aa-d657-9239693b3dce"
      },
      "outputs": [
        {
          "name": "stdout",
          "output_type": "stream",
          "text": [
            "failed to solve\n"
          ]
        }
      ],
      "source": [
        "x,y = Ints(\"x y\")\n",
        "pubkey = 1000000993\t* 1000001011\n",
        "solve(x * y == pubkey, x > 1, y > 1) # nope"
      ]
    },
    {
      "cell_type": "markdown",
      "metadata": {
        "id": "FNG1sjVRVQu4"
      },
      "source": [
        "Nonlinear equations in general are going to be tough. Not impossible, but tough. Z3 gives up immediately if you try to find the solution to a seemingly solvable problem involving an exponential. Z3 also can't really understand sines, cosines, and logarithms. The main exception is polynomial equality constraints, for which z3 has an intrinsic understanding, however these routines can be computationally expensive."
      ]
    },
    {
      "cell_type": "code",
      "execution_count": null,
      "metadata": {
        "id": "5BOINfr5VQu5"
      },
      "outputs": [],
      "source": [
        "x = Real('x')\n",
        "s = Solver()\n",
        "s.add(2**x == 3)\n",
        "print(s.check())"
      ]
    },
    {
      "cell_type": "markdown",
      "metadata": {
        "id": "h79elkJXVQu5"
      },
      "source": [
        "# Proof = Exhaustively Not Finding Counterexamples\n",
        "\n",
        "So far we've been using z3 to find solutions to a set of constraints/formulas. Z3 is so effective at this process that it can be exhaustive and know when there are no solutions to be found. This is useful for theorem proving. If we state a theorem like `Implies(And(p,q),p)` that must be true for any value of `p` and `q`, we can prove its truth by exhaustively search for a counterexample and failng to find one. A counterexample is an assignment of the variables for which the theorem evaluates to false, or equivalently for which the negation `Not(th)` evaluates to true.\n",
        "\n",
        "`solver.check()` may return\n",
        "   - sat - \"I have found a solution. You may ask for it with `solver.model()`\"\n",
        "   - unknown - This means \"I give up\". There may be a solution out there somewhere, there may not.\n",
        "   - unsat - \"I KNOW there is no solution. I've tried EVERYTHING\".\n",
        "\n",
        "Here is a simplified (not even by that much) version of the Z3 convenience function `prove` in which we perform the negation and intepret `unsat` as a proof."
      ]
    },
    {
      "cell_type": "code",
      "execution_count": null,
      "metadata": {
        "id": "DGt-wzMHVQu5"
      },
      "outputs": [],
      "source": [
        "def prove2(f): # a simplified version of the z3py function \"prove\"\n",
        "    s = Solver()\n",
        "    s.add(Not(f))\n",
        "    if s.check() == unsat:\n",
        "        print(\"proved\")\n",
        "    else:\n",
        "        print(\"failed to prove\")"
      ]
    },
    {
      "cell_type": "markdown",
      "metadata": {
        "id": "tmqqFdLAVQu5"
      },
      "source": [
        "## Propositional Logic / Boolean Logic\n",
        "\n",
        "Propositional formula are logical formula with boolean variables and logical connectives like and ($\\land$) , or ($\\lor$),  negation ( $ \\neg $ ), and implication $\\implies$. Conceptually, z3 checks all possible assingments of true and false to the variables. If the given formula always evaluates to true under any assignment, z3 states `proved`.\n"
      ]
    },
    {
      "cell_type": "code",
      "execution_count": null,
      "metadata": {
        "id": "zp_pu0U2VQu5"
      },
      "outputs": [],
      "source": [
        "# A refresher on basic boolean operations\n",
        "p, q = Bools('p q')\n",
        "print(And(p,q))\n",
        "print(Or(p,q))\n",
        "print(Xor(p,q))\n",
        "print(Not(p))\n",
        "print(Implies(p,q))\n",
        "print(p == q)\n",
        "\n",
        "# a reminder from earlier\n",
        "my_true_thm = Implies(And(p,q), p)\n",
        "prove(my_true_thm)"
      ]
    },
    {
      "cell_type": "markdown",
      "metadata": {
        "id": "mTKHGovYVQu5"
      },
      "source": [
        "### Exercise\n",
        "Prove:\n",
        "- De Morgan's Law `p & q == ~ (~p | ~q)`\n",
        "- `p -> q ==  ~ p | q`\n",
        "- Peirce's Law `((p -> q) -> p) -> p` is always true\n"
      ]
    },
    {
      "cell_type": "code",
      "execution_count": null,
      "metadata": {
        "id": "dbTCdy53VQu5"
      },
      "outputs": [],
      "source": [
        "# FILL IN"
      ]
    },
    {
      "cell_type": "markdown",
      "metadata": {
        "id": "Zi6geadoVQu5"
      },
      "source": [
        "\n",
        "\n",
        "\n"
      ]
    },
    {
      "cell_type": "markdown",
      "metadata": {
        "id": "pxajTozaVQu5"
      },
      "source": [
        "## Proving properties of arithmetic\n",
        "\n",
        "Z3 is capable of understanding many of the properties that they taught you in arithmetic."
      ]
    },
    {
      "cell_type": "markdown",
      "metadata": {
        "id": "Qz4LlNqsVQu5"
      },
      "source": [
        "### Exercise : Properties of Ints, Reals, and Floats\n",
        "Prove or find counterexamples that the mathematical reals and 16 bit floats\n",
        "- Addition commutes `x + y == y + x`\n",
        "- Addition is associative `(x + y) + z == x + (y + z)`\n",
        "- `x` is either less than, equal to, or greater than 0\n",
        "- `x*x` is always non negative"
      ]
    },
    {
      "cell_type": "code",
      "execution_count": null,
      "metadata": {
        "id": "BY4V_N2VVQu5"
      },
      "outputs": [],
      "source": [
        "# solution\n",
        "x = Real(\"x\")\n",
        "y = Real(\"y\")\n",
        "z = Real(\"z\")\n",
        "\n",
        "# Prove Properties here\n",
        "# FILL IN\n",
        "\n",
        "x = FP(\"x\", Float16())\n",
        "y = FP(\"y\", Float16())\n",
        "z = FP(\"z\", Float16())\n",
        "\n",
        "# FILL IN"
      ]
    },
    {
      "cell_type": "markdown",
      "metadata": {
        "id": "K4rilaRPVQu6"
      },
      "source": [
        "\n",
        "            \n",
        "    \n"
      ]
    },
    {
      "cell_type": "markdown",
      "metadata": {
        "id": "DofRYs69VQu6"
      },
      "source": [
        "## * Properties of Vectors\n",
        "\n",
        "I find a sometimes useful trick is to embed python objects into numpy arrays. When you do this, you get numpy array slicing and broadcasting, vectorized addition, matrix multiplication and scalar multiplication for free. Here for example, this makes for succinct expression of some properties of linear algebra."
      ]
    },
    {
      "cell_type": "code",
      "execution_count": null,
      "metadata": {
        "id": "YYvhGKr-VQu6"
      },
      "outputs": [],
      "source": [
        "import numpy as np\n",
        "\n",
        "x,y = Reals(\"x y\")\n",
        "q = np.array([x,y])\n",
        "\n",
        "np.dot(q, q) # dot product\n",
        "np.array([x]) * q # scalar product\n",
        "q * x # scalar product\n",
        "\n",
        "np.RealVal = np.vectorize(RealVal) # simple mapping of functions over a vector\n",
        "\n",
        "import operator as op\n",
        "def vec_eq(x,y):\n",
        "    return And(np.vectorize(op.eq)(x,y).tolist())\n",
        "def NPArray(n, prefix=None, dtype=RealSort()): # a vector of fresh variables.\n",
        "    return np.array( [FreshConst(dtype, prefix=prefix) for i in range(n)] )\n",
        "\n",
        "\n",
        "u = NPArray(2)\n",
        "v = NPArray(2)\n",
        "w = NPArray(2)\n",
        "\n",
        "prove(vec_eq(   v + u       ,  u + v            )) #commutativity\n",
        "prove(vec_eq(   v + (u + w) , (v + u) + w       )) # associativity\n",
        "prove(vec_eq(  (v + w) * x  , (w * x) + (v * x) ))# scalar distrubitivity\n",
        "prove(np.dot(v, u)**2 <= np.dot(v,v) * np.dot(u,u)) #cauchy schwartz inequality\n",
        "\n",
        "\n",
        "# proving properties of a linear operator defined by a matrix\n",
        "\n",
        "def Z(x):\n",
        "    z = np.RealVal( np.arange(4).reshape(2,2) )\n",
        "    return z @ x\n",
        "\n",
        "def linear(Z):\n",
        "    x = NPArray(2)\n",
        "    y = NPArray(2)\n",
        "    return vec_eq(Z(x + y), Z(x) + Z(y))\n",
        "\n",
        "\n",
        "p = linear(Z)\n",
        "prove(p)\n"
      ]
    },
    {
      "cell_type": "markdown",
      "metadata": {
        "id": "7zyG6iNvVQu6"
      },
      "source": [
        "## * Geometric Theorem Proving\n",
        "\n",
        "You can convert geometric theorems into systems of polynomial equations.\n",
        "\n",
        "Consider the following. You have a circle with a diameter. Pick an arbitrary point on the circle and connect it with lines to the points on the diameter. Is the angle formed by these lines a perpendicular angle?\n",
        "\n",
        "Two useful definitions:\n",
        "\n",
        "- A point can be constrained to a circle by `x**2 + y**2 == R**2`.\n",
        "- Perpendicularity can be defined as the dot product of the vectors going along the two lines is 0.\n",
        "\n",
        "![my_circle](https://github.com/philzook58/z3_tutorial/blob/master/images/circle_diagram.png?raw=1)"
      ]
    },
    {
      "cell_type": "code",
      "execution_count": null,
      "metadata": {
        "id": "n02c2MKhVQu6"
      },
      "outputs": [],
      "source": [
        "x, y = Reals(\"x y\") # point on circle\n",
        "# assume wlog horizontal diameter y = 0. Hits circle at x = 1, x = -1\n",
        "d1 = (x - 1, y) # vector along line 1\n",
        "d2 = (x + 1, y) # vector along line 2\n",
        "perp = d1[0]*d2[0]+d1[1]*d2[1] == 0 #perpendicularity constraint\n",
        "prove(Implies(x**2 + y**2 == 1, perp))"
      ]
    },
    {
      "cell_type": "markdown",
      "metadata": {
        "id": "dbNiYfIJVQu6"
      },
      "source": [
        "## * Axiomatic Groups\n",
        "\n",
        "A [Group](https://en.wikipedia.org/wiki/Group_(mathematics\\)) is a mathematical abstraction of the properties of symmettries. It is a set with a binary operation that is associative and an inverse operation. Common examples include integers, matrices, and polynomials.\n",
        "Z3 has sufficient expressive power to directly express the axiomatic formulation of a group. Z3's solving capabilities become less reliable in the presence of quantifiers so your mileage may vary.\n"
      ]
    },
    {
      "cell_type": "code",
      "execution_count": null,
      "metadata": {
        "id": "Z-V2bvGhVQu6",
        "outputId": "ad883ae9-2b1d-48dd-c098-62a2e03102a6"
      },
      "outputs": [
        {
          "data": {
            "text/html": [
              "<b>unsat</b>"
            ],
            "text/plain": [
              "unsat"
            ]
          },
          "execution_count": 33,
          "metadata": {},
          "output_type": "execute_result"
        }
      ],
      "source": [
        "G = DeclareSort(\"G\")\n",
        "e,a,b,c = Consts(\"e a b c\", G)\n",
        "times = Function('*', G,G, G)\n",
        "inv = Function('~', G,G)\n",
        "\n",
        "axioms = [\n",
        "  ForAll([a], times(inv(a),a) == e ),\n",
        "  ForAll([a], times(a,inv(a)) == e ),\n",
        "  ForAll([a], times(e,a) == a ),\n",
        "  ForAll([a], times(a,e) == a ),\n",
        "  ForAll([a,b,c] , times(a,times(b,c)) == times(times(a,b),c))\n",
        "]\n",
        "\n",
        "# A simple theorem\n",
        "s = Solver()\n",
        "s.add(axioms)\n",
        "theorem = inv(times(a,b)) == times(inv(b), inv(a))\n",
        "s.add(Not(theorem))\n",
        "s.check()"
      ]
    },
    {
      "cell_type": "markdown",
      "metadata": {
        "id": "YpH6dWAiVQu6"
      },
      "source": [
        "## * An Inductive Fact About a Sum\n",
        "\n",
        "Z3 can crush finite structures, but isn't particularly designed for proving facts about the infinite. Questions like these need some kind of inductive reaosning.\n",
        "Here is an example trying to prove a closed form for the sum $\\sum_{i=0}^n i = \\frac{n(n+1)}{2}$"
      ]
    },
    {
      "cell_type": "code",
      "execution_count": null,
      "metadata": {
        "id": "gXdf8no8VQu6"
      },
      "outputs": [],
      "source": [
        "n = Int(\"n\")\n",
        "Sumn = Function(\"sumn\", IntSort(), IntSort())\n",
        "s = Solver()\n",
        "s.add( Sumn(0) == 0)\n",
        "s.add(ForAll([n], Sumn(n+1) == n + 1 + Sumn(n)))\n",
        "s.add(Not(ForAll([n], Implies(n >= 0, 2 * Sumn(n) == n * (n + 1)))))\n",
        "s.check()"
      ]
    },
    {
      "cell_type": "markdown",
      "metadata": {
        "id": "bvIyf0PdVQu6"
      },
      "source": [
        "By maually instantiating an induction principle, we can get this to go through forever, however this process is not at all fool proof. Ultimately, it appears that complicated questions like these are best treated in interactive proof assistants like Coq."
      ]
    },
    {
      "cell_type": "code",
      "execution_count": null,
      "metadata": {
        "id": "XHx3xW8gVQu6"
      },
      "outputs": [],
      "source": [
        "n = Int(\"n\")\n",
        "Sumn = Function(\"sumn\", IntSort(), IntSort())\n",
        "s = Solver()\n",
        "# defining sum(n) = 1 + 2 + 3 + ... n\n",
        "s.add( Sumn(0) == 0)\n",
        "s.add(ForAll([n], Sumn(n+1) == n + 1 + Sumn(n)))\n",
        "def prop_sumn(n):\n",
        "    return 2 * Sumn(n) == n * (n + 1)\n",
        "def induction(p):\n",
        "    n = Int(\"n\")\n",
        "    return Implies(And(  p(0),    ForAll([n],Implies(And(n >= 0, p(n)),p(n+1)))),\n",
        "                     # --------------------------------------------------------\n",
        "                       ForAll( [n] , Implies(n>=0, p(n))))\n",
        "s.add(induction(prop_sumn))\n",
        "s.add( Not(ForAll([n], Implies( n >= 0, prop_sumn(n)))))\n",
        "if s.check() == unsat:\n",
        "    print(\"proved\")"
      ]
    },
    {
      "cell_type": "markdown",
      "metadata": {
        "id": "54bYFmGMVQu6"
      },
      "source": [
        "# Proving Programs\n",
        "\n",
        "So far we've been dealing with things that seem like puzzles or pure math. Now we have enough tools in our toolbox to attack problems that feel more directly related to programming.\n"
      ]
    },
    {
      "cell_type": "markdown",
      "metadata": {
        "id": "wU0pgCZtVQu6"
      },
      "source": [
        "## Bit Tricks\n",
        "\n",
        "Some low level hacks are very popular with C programmers. Here is a list of cool bit tricks\n",
        "http://graphics.stanford.edu/~seander/bithacks.html\n",
        "\n",
        "### Power of two\n",
        "This hack is frequently used in C programs (Z3 included) to test whether a machine integer is a power of two. We can use Z3 to prove it really works. To understand this hack, it helps to look at the boolean form of these numbers. It seems that x - 1 and x share no 1s if and only if x is a power of 2."
      ]
    },
    {
      "cell_type": "code",
      "execution_count": null,
      "metadata": {
        "id": "7EybS4oCVQu7",
        "outputId": "5f7c38c4-0515-4323-bb34-2a5ee99b3fa1"
      },
      "outputs": [
        {
          "name": "stdout",
          "output_type": "stream",
          "text": [
            "0010000000000000\n",
            "0001111111111111\n"
          ]
        }
      ],
      "source": [
        "print(format(2**13, '016b'))\n",
        "print(format(2**13-1, '016b'))"
      ]
    },
    {
      "cell_type": "code",
      "execution_count": null,
      "metadata": {
        "id": "mTxbS5XFVQu7",
        "outputId": "07e65e58-f1ff-4254-ede0-97e47e44987b"
      },
      "outputs": [
        {
          "name": "stdout",
          "output_type": "stream",
          "text": [
            "0000000000101010\n",
            "0000000000101001\n"
          ]
        }
      ],
      "source": [
        "# A non power of two\n",
        "print(format(42, '016b'))\n",
        "print(format(42-1, '016b'))"
      ]
    },
    {
      "cell_type": "code",
      "execution_count": null,
      "metadata": {
        "id": "TihSpwe5VQu7",
        "outputId": "8d961033-891b-4437-8357-226621625409"
      },
      "outputs": [
        {
          "name": "stdout",
          "output_type": "stream",
          "text": [
            "[True, True, True, True, True, True, True, True, True, True, True, True, True, True, True, True, True, True, True, True, True, True, True, True, True, True, True, True, True, True, True, True]\n",
            "[]\n"
          ]
        }
      ],
      "source": [
        "import numpy as np\n",
        "\n",
        "def is_pow2_slow(x):\n",
        "    return x in [2 ** i for i in range(32)]\n",
        "def is_pow2_fast(x):\n",
        "    return not x & (x - 1)\n",
        "\n",
        "# Tests\n",
        "print([is_pow2_fast(2**i) for i in range(32)])\n",
        "print([ i for i in np.random.randint(2**32, size=100000) if is_pow2_fast(i) != is_pow2_slow(i)  ])"
      ]
    },
    {
      "cell_type": "code",
      "execution_count": null,
      "metadata": {
        "id": "E67of7EFVQu7",
        "outputId": "3b6ae304-099b-4704-c2db-21d7371ac4f9"
      },
      "outputs": [
        {
          "name": "stdout",
          "output_type": "stream",
          "text": [
            "counterexample\n",
            "[x = 0]\n"
          ]
        }
      ],
      "source": [
        "x      = BitVec('x', 32)\n",
        "fast   = x & (x - 1) == 0\n",
        "powers = [ 2**i for i in range(32) ]\n",
        "slow   = Or([ x == p for p in powers ])\n",
        "prove(fast == slow)"
      ]
    },
    {
      "cell_type": "markdown",
      "metadata": {
        "id": "v8pGwB8MVQu7"
      },
      "source": [
        "Really? But my spiel sounded so good."
      ]
    },
    {
      "cell_type": "code",
      "execution_count": null,
      "metadata": {
        "id": "RYXL-_b4VQu7",
        "outputId": "2a092974-c151-40cd-9fce-356572397a6e"
      },
      "outputs": [
        {
          "name": "stdout",
          "output_type": "stream",
          "text": [
            "False\n",
            "True\n"
          ]
        }
      ],
      "source": [
        "print(is_pow2_slow(0))\n",
        "print(is_pow2_fast(0))"
      ]
    },
    {
      "cell_type": "markdown",
      "metadata": {
        "id": "42sXltp4VQu7"
      },
      "source": [
        "Yes, this is a counter example. Some funny behavior happens subtracting at 0 when looking at the bit representation. What about it we exclude that case."
      ]
    },
    {
      "cell_type": "code",
      "execution_count": null,
      "metadata": {
        "id": "HNIDa-1TVQu7",
        "outputId": "975bd19a-72f0-4093-ca09-805e7fd5de54"
      },
      "outputs": [
        {
          "name": "stdout",
          "output_type": "stream",
          "text": [
            "proved\n"
          ]
        }
      ],
      "source": [
        "def is_pow2_fast(x):\n",
        "    return x != 0 and not x & (x - 1)\n",
        "\n",
        "fast = And(x != 0, x & (x - 1) == 0)\n",
        "prove(fast == slow)"
      ]
    },
    {
      "cell_type": "markdown",
      "metadata": {
        "id": "bAd_5KlFVQu7"
      },
      "source": [
        "Nice."
      ]
    },
    {
      "cell_type": "markdown",
      "metadata": {
        "id": "iYMU8AF6VQu8"
      },
      "source": [
        "### Exercise: Exactly One Negative\n",
        "The following bit trick gives a fast way to determine if exactly one of 2 given integers is negative. The reason it works is because in the two's comnplement encoding of negative numbers the most significant bit is a [sign bit](https://en.wikipedia.org/wiki/Sign_bit)."
      ]
    },
    {
      "cell_type": "code",
      "execution_count": null,
      "metadata": {
        "id": "ddd4quq-VQu8",
        "outputId": "133ee15d-4d65-4079-aa84-27a5d098736a"
      },
      "outputs": [
        {
          "name": "stdout",
          "output_type": "stream",
          "text": [
            "[(-2, 0), (-2, 1), (-1, 0), (-1, 1), (0, -2), (0, -1), (1, -2), (1, -1)]\n",
            "[(-2, 0), (-2, 1), (-1, 0), (-1, 1), (0, -2), (0, -1), (1, -2), (1, -1)]\n"
          ]
        }
      ],
      "source": [
        "def opposite_signs_fast(x,y):\n",
        "    return x ^ y < 0\n",
        "def opposite_signs_slow(x,y):\n",
        "    if x < 0 and y >= 0:\n",
        "        return True\n",
        "    if x >= 0 and y < 0:\n",
        "        return True\n",
        "    return False\n",
        "\n",
        "print( [ (i,j) for i in range(-2,2) for j in range(-2,2) if opposite_signs_fast(i,j) ])\n",
        "print( [ (i,j) for i in range(-2,2) for j in range(-2,2) if opposite_signs_slow(i,j) ])"
      ]
    },
    {
      "cell_type": "code",
      "execution_count": null,
      "metadata": {
        "id": "wMpaOvB7VQu8"
      },
      "outputs": [],
      "source": [
        "x = BitVec('x', 32)\n",
        "y = BitVec('y', 32)\n",
        "\n",
        "# FILL IN\n"
      ]
    },
    {
      "cell_type": "markdown",
      "metadata": {
        "id": "yv8tin9yVQu8"
      },
      "source": [
        "## Symbolic Execution and Bounded Model Checking\n",
        "It is fairly straightforward with a few tricks to directly translate a program into a Z3 expression. Depending on the community, goals, and differences in search strategy this technique goes by the name of symbolic execution or bounded model checking.\n",
        "\n",
        "Here are some real world projects that are interesting to check out\n",
        "\n",
        "- https://klee.github.io/ Klee Symbolic Execution Engine\n",
        "- http://www.esbmc.org/ ESMBC\n",
        "- https://apalache.informal.systems/ Apalache - Bounded Model Checking for TLA+\n",
        "\n",
        "### Assignment and Equality\n",
        "\n",
        "Consider this simple program"
      ]
    },
    {
      "cell_type": "code",
      "execution_count": null,
      "metadata": {
        "id": "gZvPvOk7VQu8"
      },
      "outputs": [],
      "source": [
        "def foo(x):\n",
        "    y = 2*x + 4\n",
        "    z = y*y\n",
        "    assert(z >= 0)\n",
        "    return z"
      ]
    },
    {
      "cell_type": "markdown",
      "metadata": {
        "id": "7S-rmHgTVQu8"
      },
      "source": [
        "We can translate this to Z3 with very few changes"
      ]
    },
    {
      "cell_type": "code",
      "execution_count": null,
      "metadata": {
        "id": "XiA2e-KsVQu8"
      },
      "outputs": [],
      "source": [
        "x,y,z = Ints(\"x y z\")\n",
        "prog = [\n",
        "  y == 2 * x + 4,\n",
        "  z == y * y\n",
        "]"
      ]
    },
    {
      "cell_type": "markdown",
      "metadata": {
        "id": "tY8R4J3MVQu8"
      },
      "source": [
        "We can ask Z3 if this always returns a positive number"
      ]
    },
    {
      "cell_type": "code",
      "execution_count": null,
      "metadata": {
        "id": "vbkIiy6rVQu8"
      },
      "outputs": [],
      "source": [
        "s = Solver()\n",
        "s.add(prog)\n",
        "s.add( Not(z >= 0) )\n",
        "s.check()"
      ]
    },
    {
      "cell_type": "markdown",
      "metadata": {
        "id": "klyliIGpVQu8"
      },
      "source": [
        "Now consider this program"
      ]
    },
    {
      "cell_type": "code",
      "execution_count": null,
      "metadata": {
        "id": "c4eUgpztVQu8"
      },
      "outputs": [],
      "source": [
        "def foo(x):\n",
        "    x = 2*x + 4\n",
        "    x = x*x\n",
        "    assert(x >= 0)\n",
        "    return x"
      ]
    },
    {
      "cell_type": "markdown",
      "metadata": {
        "id": "_ABhljMOVQu8"
      },
      "source": [
        "The following is not an accurate translation of this program. Why?"
      ]
    },
    {
      "cell_type": "code",
      "execution_count": null,
      "metadata": {
        "id": "3H4VJs7DVQu8"
      },
      "outputs": [],
      "source": [
        "x = Int(\"x\")\n",
        "prog = [\n",
        "  x == 2 * x + 4,\n",
        "  x == x * x\n",
        "]"
      ]
    },
    {
      "cell_type": "markdown",
      "metadata": {
        "id": "NT9bHTG2VQu8"
      },
      "source": [
        "The issue is subtle differences between incompatible notions of equality. This is not just a Z3 issue.\n",
        "Consider the difference between these two statements.\n",
        "\n",
        "```\n",
        "x = 3\n",
        "x == 3\n",
        "```\n",
        "The first assigns `x` to the number 3. The second checks if `x` holds the number 3. Both could be called \"equals\" but are very different. You could imagine a beginner programmer being confused on this point.\n",
        "\n",
        "Z3 is static. It has no intrinsic notion of time or mutation. Its expressions are like those taught to you in algebra class rather than in your programming class.\n",
        "\n",
        "When we're modelling a programming language with mutation in Z3, we need to translate the mutational `=` to Z3's notion of `==`. One way to do so is to make every new assignment go to a fresh variable.\n"
      ]
    },
    {
      "cell_type": "code",
      "execution_count": null,
      "metadata": {
        "id": "qkd0F553VQu9"
      },
      "outputs": [],
      "source": [
        "def foo(x):\n",
        "    x1 = 2*x + 4\n",
        "    x2 = x1*x1\n",
        "    return x2\n",
        "\n",
        "x,x1,x2 = Ints(\"x x1 x2\")\n",
        "prog = [\n",
        "  x1 == 2 * x + 4,\n",
        "  x2 == x1 * x1\n",
        "]"
      ]
    },
    {
      "cell_type": "markdown",
      "metadata": {
        "id": "23QhYPJ-VQu9"
      },
      "source": [
        "This transformation is commonly used in compiler's where it is known as Single Static Assignment https://en.wikipedia.org/wiki/Static_single_assignment_form . The sameness of `x` at different points in your code is an abstraction. Your language may not be guarantee that variables named `x` really are the same location in memory at different points in your function language. They may be flipping things in and out of registers and memory as the compiler sees fit.\n"
      ]
    },
    {
      "cell_type": "markdown",
      "metadata": {
        "id": "vQ2oHD9qVQu9"
      },
      "source": [
        "### Branches\n",
        "Describing branching which is a dynamic process to the static Z3 also takes a little ingenuity. Now the value a variable takes on depends on which branch control came from"
      ]
    },
    {
      "cell_type": "code",
      "execution_count": null,
      "metadata": {
        "id": "EcGNDypbVQu9"
      },
      "outputs": [],
      "source": [
        "def foo(x):\n",
        "    if x <= 0:\n",
        "        y = x\n",
        "    else:\n",
        "        y = -x\n",
        "    z = y*y\n",
        "    assert(z >= 0)\n",
        "    return z"
      ]
    },
    {
      "cell_type": "code",
      "execution_count": null,
      "metadata": {
        "id": "R_GWX_-zVQu9"
      },
      "outputs": [],
      "source": [
        "x,y,z = Ints(\"x y z\")\n",
        "prog = [\n",
        "    If(x <= 0, y == x, y == -x),\n",
        "    z == y * y\n",
        "]\n",
        "prove( Implies(And(prog), z >= 0) )"
      ]
    },
    {
      "cell_type": "markdown",
      "metadata": {
        "id": "Kb58tmiWVQu9"
      },
      "source": [
        "#### Exercise: Two Sort\n",
        "\n",
        "Consider the following program which sorts x and y. This is the simplest possible sorting algorithm that deserves the name.\n",
        "Translate this to z3 and prove that the result of this program `(a,b)` has the property `a <= b`. Does this property specify the function is a sorting algorithm?"
      ]
    },
    {
      "cell_type": "code",
      "execution_count": null,
      "metadata": {
        "id": "Oype2dWsVQu9"
      },
      "outputs": [],
      "source": [
        "def sort(x,y):\n",
        "    if y < x:\n",
        "        temp = x\n",
        "        x = y\n",
        "        y = temp\n",
        "    else:\n",
        "        x = x\n",
        "        y = y\n",
        "    assert(x <= y)\n",
        "    return (x,y)"
      ]
    },
    {
      "cell_type": "code",
      "execution_count": null,
      "metadata": {
        "id": "0PMMlkh7VQu9"
      },
      "outputs": [],
      "source": [
        "# FILL IN"
      ]
    },
    {
      "cell_type": "markdown",
      "metadata": {
        "id": "1zKtAxYKVQu9"
      },
      "source": [
        "## * Loops\n",
        "\n",
        "The simplest and most effective way to deal with looping behavior is to simply unroll the loops. This is simple when the number of executions are known. The following two programs are equivalent.\n"
      ]
    },
    {
      "cell_type": "code",
      "execution_count": null,
      "metadata": {
        "id": "OqYvex3yVQu9"
      },
      "outputs": [],
      "source": [
        "def foo(x):\n",
        "    for i in range(3):\n",
        "        x = x*x\n",
        "    return x\n",
        "\n",
        "def foo(x):\n",
        "    x = x*x\n",
        "    x = x*x\n",
        "    x = x*x\n",
        "    return x\n",
        "\n",
        "x,x1,x2,x3 = Ints(\"x x1 x2 x3\")\n",
        "prog = [\n",
        "    x1 == x*x,\n",
        "    x2 == x1*x1,\n",
        "    x3 == x2*x2,\n",
        "]"
      ]
    },
    {
      "cell_type": "markdown",
      "metadata": {
        "id": "unEZnxF6VQu9"
      },
      "source": [
        "When the bound on the loop isn't known (which is very common) a strategy is to just unroll the loop a bounded amount. Counterexamples returned can be confirmed as counterexamples. Sometimes false counterexamples may be returned, in which case one may increase the number of loop executions. This is the strategy from which Bounded Model Checking receives it's name."
      ]
    },
    {
      "cell_type": "markdown",
      "metadata": {
        "id": "4iXGVACOVQu9"
      },
      "source": [
        "### * Verifying the Babylonian Square Root Method\n",
        "\n",
        "The babylonian method is an iterative procedure for computing square roots. You take an initial guess and then compute the next iteration using the formula\n",
        "$ x_{n+1} = \\frac{1}{2}(\\frac{r}{x_n} + x_n)$\n",
        "Intuitively, if your current $x$ is low for the square root of $r$, $\\frac{r}{x}$ is high. If $x$ is high, $\\frac{r}{x}$ is low. So if you take the average of the two, you're hopefully getting closer to the real answer.\n",
        "We can also see that if you are precisely at the square root $x = \\sqrt{r}$, (r/x + x)/2 is a fixed point of the iteration. $\\frac{1}{2}(\\frac{r}{x} + x) = \\frac{1}{2}(\\frac{r}{\\sqrt{r}} + \\sqrt{r}) = \\sqrt{r}$\n",
        "\n",
        "How good is the method after 7 iterations though? What precision can we rely on? Well, we can ask z3 to prove a bound."
      ]
    },
    {
      "cell_type": "code",
      "execution_count": null,
      "metadata": {
        "id": "h9RZlz1JVQu9",
        "outputId": "6f50711f-0830-4126-80ac-351f454cc41e"
      },
      "outputs": [
        {
          "name": "stdout",
          "output_type": "stream",
          "text": [
            "proved\n"
          ]
        }
      ],
      "source": [
        "def babylonian(x):\n",
        "    res = 1\n",
        "    for i in range(7):\n",
        "        res = (x / res + res) / 2\n",
        "    return res\n",
        "\n",
        "def bab_iter(x, y):\n",
        "    return (x / y + y) / 2\n",
        "\n",
        "x, y = Reals(\"x y\")\n",
        "prove(Implies(And(y**2 == x, y >= 0, 0 <= x, x <= 10), babylonian(x) - y <= 0.01))"
      ]
    },
    {
      "cell_type": "code",
      "execution_count": null,
      "metadata": {
        "id": "U80A9d-tVQu-",
        "outputId": "c8936bd2-92d2-4832-df90-2fcc8670afb0"
      },
      "outputs": [
        {
          "data": {
            "image/png": "[encoded data removed]",
            "text/plain": [
              "<Figure size 432x288 with 1 Axes>"
            ]
          },
          "metadata": {
            "needs_background": "light"
          },
          "output_type": "display_data"
        }
      ],
      "source": [
        "# This is also pretty convincing\n",
        "import matplotlib.pyplot as plt\n",
        "import numpy as np\n",
        "xs = np.linspace(0,10)\n",
        "plt.plot( xs, babylonian(xs)- np.sqrt(xs))\n",
        "plt.show()\n"
      ]
    },
    {
      "cell_type": "markdown",
      "metadata": {
        "id": "m0peBdjGVQu-"
      },
      "source": [
        "## * Weakest Precondition\n",
        "\n",
        "Another useful and popular technique for translating programs to logical queries is the method of [predicate transformers](https://en.wikipedia.org/wiki/Predicate_transformer_semantics) of which Weakest Precondition is the most commonly encountered. In this method, the program statements are interpreted as acting upon logical formulas of the states of the computer, for example replacing a variable in the formula can be used to interpret assignment. A logical formula can be thought of as representing the set of states of the computer for which the formula is true. We can determine whether sets of states in the program remain in the \"safe\" set of states of the specification via a Z3 query.\n",
        "\n",
        "For a more in depth example of using Z3Py to perform a Weakest Precondition analysis in the style of this tutorial, check out this blog post https://www.philipzucker.com/weakest-precondition-z3py/\n",
        "\n",
        "For systems that implement variations of this technique over real languages see\n",
        "\n",
        "- Dafny https://rise4fun.com/Dafny/tutorial\n",
        "- ADA/Spark https://www.adacore.com/about-spark\n",
        "- Why3 http://why3.lri.fr/\n",
        "- Frama-C https://frama-c.com/\n",
        "- JML https://www.openjml.org/\n",
        "- Viper https://www.pm.inf.ethz.ch/research/viper.html\n"
      ]
    },
    {
      "cell_type": "markdown",
      "metadata": {
        "id": "9RWenReMVQu-"
      },
      "source": [
        "## Sorting Networks\n",
        "\n",
        "[Sorting networks](https://en.wikipedia.org/wiki/Sorting_network) are a circuit flavored take on sorting. Although you can build circuits for any size input, any paritcular circuit works for a fixed sized input. They are like an unrolling of the loops or recursion of regular style sorting algorithms.\n",
        "\n",
        "\n",
        "Here's an interesting thing. We can go to Wikipedia and get a little python snippet for the comparison order of a [Batcher even-odd mergesort](https://en.wikipedia.org/w/index.php?title=Batcher_odd%E2%80%93even_mergesort&oldid=969926478) Kind of a confusing algorithm. Why does it even work? Is it even right?\n",
        "\n",
        "<img src=\"https://github.com/philzook58/z3_tutorial/blob/master/images/batcher.png?raw=1\" alt=\"Drawing\" style=\"width: 500px;\"/>"
      ]
    },
    {
      "cell_type": "code",
      "execution_count": null,
      "metadata": {
        "id": "znAii2nqVQu-",
        "outputId": "779b193d-8fe5-44ff-8f15-c2da3c0f94aa"
      },
      "outputs": [
        {
          "data": {
            "text/plain": [
              "[(0, 1),\n",
              " (2, 3),\n",
              " (0, 2),\n",
              " (1, 3),\n",
              " (1, 2),\n",
              " (4, 5),\n",
              " (6, 7),\n",
              " (4, 6),\n",
              " (5, 7),\n",
              " (5, 6),\n",
              " (0, 4),\n",
              " (2, 6),\n",
              " (2, 4),\n",
              " (1, 5),\n",
              " (3, 7),\n",
              " (3, 5),\n",
              " (1, 2),\n",
              " (3, 4),\n",
              " (5, 6)]"
            ]
          },
          "execution_count": 45,
          "metadata": {},
          "output_type": "execute_result"
        }
      ],
      "source": [
        "# from https://en.wikipedia.org/w/index.php?title=Batcher_odd%E2%80%93even_mergesort&oldid=969926478\n",
        "def oddeven_merge(lo: int, hi: int, r: int):\n",
        "    step = r * 2\n",
        "    if step < hi - lo:\n",
        "        yield from oddeven_merge(lo, hi, step)\n",
        "        yield from oddeven_merge(lo + r, hi, step)\n",
        "        yield from [(i, i + r) for i in range(lo + r, hi - r, step)]\n",
        "    else:\n",
        "        yield (lo, lo + r)\n",
        "\n",
        "def oddeven_merge_sort_range(lo: int, hi: int):\n",
        "    \"\"\" sort the part of x with indices between lo and hi.\n",
        "\n",
        "    Note: endpoints (lo and hi) are included.\n",
        "    \"\"\"\n",
        "    if (hi - lo) >= 1:\n",
        "        # if there is more than one element, split the input\n",
        "        # down the middle and first sort the first and second\n",
        "        # half, followed by merging them.\n",
        "        mid = lo + ((hi - lo) // 2)\n",
        "        yield from oddeven_merge_sort_range(lo, mid)\n",
        "        yield from oddeven_merge_sort_range(mid + 1, hi)\n",
        "        yield from oddeven_merge(lo, hi, 1)\n",
        "\n",
        "def oddeven_merge_sort(length: int):\n",
        "    \"\"\" \"length\" is the length of the list to be sorted.\n",
        "    Returns a list of pairs of indices starting with 0 \"\"\"\n",
        "    yield from oddeven_merge_sort_range(0, length - 1)\n",
        "\n",
        "def compare_and_swap(x, a, b) -> None:\n",
        "    if x[a] > x[b]:\n",
        "        x[a], x[b] = x[b], x[a]\n",
        "\n",
        "list(oddeven_merge_sort(8)) # compare and swap sequence for 8 items"
      ]
    },
    {
      "cell_type": "markdown",
      "metadata": {
        "id": "e_psySflVQu-"
      },
      "source": [
        "Well we can confirm this relatively straightforwardly using z3 by replacing the implementation of compare_and_swap with it's z3 equivalent."
      ]
    },
    {
      "cell_type": "code",
      "execution_count": null,
      "metadata": {
        "id": "AYIEGpvwVQu-"
      },
      "outputs": [],
      "source": [
        "def compare_and_swap_z3(x,y):\n",
        "    x1, y1 = FreshInt(), FreshInt()\n",
        "    c = If(x <= y, And(x1 == x, y1 == y) , And(x1 == y, y1 == x) )\n",
        "    return x1, y1, c"
      ]
    },
    {
      "cell_type": "markdown",
      "metadata": {
        "id": "RagYwM3rVQu-"
      },
      "source": [
        "It's somewhat interesting to note that the output of odd_even_merge is a sequence of instructions, we can think of this as intepreting a very small 1 instruction (compare_and_swap) programming language."
      ]
    },
    {
      "cell_type": "code",
      "execution_count": null,
      "metadata": {
        "id": "OPAZWw2dVQu-",
        "outputId": "6eff994e-1718-49f8-fca8-1ae5a787341d"
      },
      "outputs": [
        {
          "name": "stdout",
          "output_type": "stream",
          "text": [
            "proved\n"
          ]
        },
        {
          "data": {
            "text/plain": [
              "True"
            ]
          },
          "execution_count": 47,
          "metadata": {},
          "output_type": "execute_result"
        }
      ],
      "source": [
        "# predicates of interest\n",
        "def sorted_list(x): # list is sorted\n",
        "    return And([x <= y for x,y in zip(x , x[1:])])\n",
        "\n",
        "def verify_network(pairs_to_compare, N):\n",
        "    s = Solver()\n",
        "\n",
        "    a = [Int(f\"x_{i}\") for i in range(N)] #build initial array in z3 variables\n",
        "\n",
        "    #a_orig = a.copy() # keep around copy for correctness predicate\n",
        "    for i,j in pairs_to_compare:\n",
        "       x = a[i]\n",
        "       y = a[j]\n",
        "       x1, y1, c = compare_and_swap_z3(x,y)\n",
        "       a[i] = x1\n",
        "       a[j] = y1\n",
        "       s.add(c)\n",
        "\n",
        "    s.add(Not(sorted_list(a)))\n",
        "    if s.check() == unsat:\n",
        "        print(\"proved\")\n",
        "        return True\n",
        "    else:\n",
        "        return False\n",
        "N = 8\n",
        "verify_network(list(oddeven_merge_sort(N)), N)"
      ]
    },
    {
      "cell_type": "markdown",
      "metadata": {
        "id": "klazsop4VQu-"
      },
      "source": [
        "Here's a reasonable sounding question: Can we prove that the Batcher even-odd sort is correct for all possible sizes N?\n",
        "Actually, this is very difficult to express in Z3 because here we run into a usage of induction, something Z3 is rather weak at.\n",
        "In fact such a question is best verified by a tool like Coq, which Cody will talk about tomorrow."
      ]
    },
    {
      "cell_type": "markdown",
      "metadata": {
        "id": "P8k_MfImVQu-"
      },
      "source": [
        "### Synthesis of Optimal Sorting Networks\n",
        "An optimal sorting network is one that uses the minimal number of compare and swap operations. The batcher even-odd merge sort is good, but perhaps not optimal. What is? We we can find it by enumerating all possible combinations of compare and swaps and the finding one that passes verification as a sorting algorithm. This is an example of program synethesis."
      ]
    },
    {
      "cell_type": "code",
      "execution_count": null,
      "metadata": {
        "id": "kffnTvpnVQu_"
      },
      "outputs": [],
      "source": [
        "\n",
        "def all_swaps(m): # all pairs of integers from 0 to m-1\n",
        "    return [ [(i, j)] for i in range(m) for j in range(i+1, m) ]\n",
        "\n",
        "# All list of length n on swaps on m wires\n",
        "def all_networks(m, n):\n",
        "   if n == 0:\n",
        "     return []\n",
        "   elif n == 1:\n",
        "     return all_swaps(m)\n",
        "   else:\n",
        "     return [ c + swap for c in all_networks(m,n-1) for swap in all_swaps(m)]\n",
        "\n",
        "\n",
        "def synthesize(N):\n",
        "    for n in range(N**2): # we can definitely do it in N*2 gates.\n",
        "       print(f\"trying network size: {n}\")\n",
        "       for pairs_to_compare in all_networks(N,n):\n",
        "           if verify_network(pairs_to_compare, N):\n",
        "               return pairs_to_compare\n",
        "\n",
        "\n",
        "synthesize(4)"
      ]
    },
    {
      "cell_type": "markdown",
      "metadata": {
        "id": "fc4S-iSxVQu_"
      },
      "source": [
        "The space we are naively looking through is very very large. Consider what else might you want to do to speed things up. Early pruning of bad networks with testing, avoiding ever looking at obviously bad networks, maybe the completely optimal sorting network isn't necessary for you. Maybe a randomized search might be faster."
      ]
    },
    {
      "cell_type": "markdown",
      "metadata": {
        "id": "03mAhtldVQu_"
      },
      "source": [
        "## Verifying a Neural Network\n",
        "\n",
        "Neural networks are all the rage these days. One way of looking at neural networks is that they are a flexibly parametrized class of functions. What makes them useful is:\n",
        "\n",
        "1. They can be used at insane scale due to their simplicity and excellent available implementations.\n",
        "2. There are intuitive ways to input abstract structure and symmetry expected of a problem, for example translation symmetry, or a hierarchy of small scale pattern recognition combining into large scale strutures\n",
        "3. Inspirational analogies can be drawn from nature.\n",
        "\n",
        "Neural networks made out of just ReLUs (rectified linear units, $ReLU(x) = max(0,x)$ ) and linear layers are particularly amenable to formal analysis. Regarding the weights as fixed, a neural network is a piecewise linear function and piecewise linear functions are among the functions most amenable to rigorous anaysis.\n"
      ]
    },
    {
      "cell_type": "code",
      "execution_count": null,
      "metadata": {
        "id": "Ra5x_-acVQu_",
        "outputId": "09a2ec9c-bfea-4432-a36b-30094dfd1889"
      },
      "outputs": [
        {
          "data": {
            "image/png": "[encoded data removed]",
            "text/plain": [
              "<Figure size 432x288 with 1 Axes>"
            ]
          },
          "metadata": {
            "needs_background": "light"
          },
          "output_type": "display_data"
        }
      ],
      "source": [
        "import matplotlib.pyplot as plt\n",
        "import numpy as np\n",
        "xs = np.linspace(-1,1,1000)\n",
        "plt.plot(xs, np.maximum(0,xs))\n",
        "plt.title(\"ReLU\")\n",
        "plt.show()"
      ]
    },
    {
      "cell_type": "markdown",
      "metadata": {
        "id": "7NQmjgKcVQu_"
      },
      "source": [
        "Most machine learning tasks don't have a mathematically precise specification. What is the mathematically precise definition of a picture of a horse? We could try to come up with something, but it would be rather suspect.\n",
        "\n",
        "The surprising power of neural networks has often been in areas where a mathematically precise rule based specification has not worked. Tasks that _do_ have a spec are questionable areas for machine learning techniques, because how can you know that the network meets the spec? Also, one would suspect such a problem would have exploitable structure such that you might be better off with a less general purpose approach.\n",
        "\n",
        "However, there a a couple areas where one does have reasonable formal questions one might want to ask about a neural network:\n",
        "- Robustness around training examples and valdiation examples. Adversarial examples.\n",
        "- Control Systems - There are many control systems which we do have a reasonable formal spec one could write such as walking robots. These systems are so high dimensional that it is difficult to derive a good controller from the spec, and hence reinforcement learning may be a reasonable option\n",
        "- Neural networks as computational accelerators. There are problems which we know how to solve, but are very slow. It may be useful to presolve a large number of examples offline and train a neural network to give good estimates. Neural networks can be evaluated very quickly and easily thanks to modern frameworks.\n",
        "- Dead neuron pruning. Can we show that some neuron never fires over the domain of interest?\n",
        "  \n",
        "\n",
        "Here we'll train a network to fit a simple 1-D function and then verify it's accuracy. This is of course a complete toy. How often do you see 1-D input space neural networks? Not often I bet.\n",
        "\n",
        "But it's nice for a couple reasons:\n",
        "1. Because we can visualize it.\n",
        "2. It drives home the point about neural nets being a space of piecewise linear function approximators, and how similar training is to curve fitting.\n",
        "3. It's simple enough that z3 can crush it. There is a big question if z3 or other formal methods can scale to modern neural nets. Modern top of the line neural nets are insanely huge. There are special purpose SMT solvers being built for this task. There are other approaches being pursued such as the use of mixed integer programming solvers. So this is an area of research. Come see tomorrow's talk for more!"
      ]
    },
    {
      "cell_type": "code",
      "execution_count": null,
      "metadata": {
        "id": "q5qTWzl7VQu_",
        "outputId": "cb687554-1a49-47bd-bbeb-11d8dab73af4"
      },
      "outputs": [
        {
          "data": {
            "image/png": "[encoded data removed]",
            "text/plain": [
              "<Figure size 432x288 with 1 Axes>"
            ]
          },
          "metadata": {
            "needs_background": "light"
          },
          "output_type": "display_data"
        }
      ],
      "source": [
        "import matplotlib.pyplot as plt\n",
        "import numpy as np\n",
        "\n",
        "def poly(x):\n",
        "    return 8 * x ** 4 - 8 * x**2 + 1\n",
        "xs = np.linspace(-1,1,1000)\n",
        "ys = poly(xs)\n",
        "plt.plot(xs, ys)\n",
        "plt.show()"
      ]
    },
    {
      "cell_type": "code",
      "execution_count": null,
      "metadata": {
        "id": "Bv0PBmfeVQu_",
        "outputId": "db831a82-1c5f-4585-de98-db6fccab1c97"
      },
      "outputs": [
        {
          "ename": "ModuleNotFoundError",
          "evalue": "No module named 'tensorflow'",
          "output_type": "error",
          "traceback": [
            "\u001b[0;31m---------------------------------------------------------------------------\u001b[0m",
            "\u001b[0;31mModuleNotFoundError\u001b[0m                       Traceback (most recent call last)",
            "\u001b[0;32m<ipython-input-14-99e444df5507>\u001b[0m in \u001b[0;36m<module>\u001b[0;34m\u001b[0m\n\u001b[0;32m----> 1\u001b[0;31m \u001b[0;32mimport\u001b[0m \u001b[0mtensorflow\u001b[0m \u001b[0;32mas\u001b[0m \u001b[0mtf\u001b[0m\u001b[0;34m\u001b[0m\u001b[0;34m\u001b[0m\u001b[0m\n\u001b[0m\u001b[1;32m      2\u001b[0m \u001b[0;32mfrom\u001b[0m \u001b[0mtensorflow\u001b[0m \u001b[0;32mimport\u001b[0m \u001b[0mkeras\u001b[0m\u001b[0;34m\u001b[0m\u001b[0;34m\u001b[0m\u001b[0m\n\u001b[1;32m      3\u001b[0m \u001b[0;34m\u001b[0m\u001b[0m\n\u001b[1;32m      4\u001b[0m \u001b[0;31m# Helper libraries\u001b[0m\u001b[0;34m\u001b[0m\u001b[0;34m\u001b[0m\u001b[0;34m\u001b[0m\u001b[0m\n\u001b[1;32m      5\u001b[0m \u001b[0;32mimport\u001b[0m \u001b[0mnumpy\u001b[0m \u001b[0;32mas\u001b[0m \u001b[0mnp\u001b[0m\u001b[0;34m\u001b[0m\u001b[0;34m\u001b[0m\u001b[0m\n",
            "\u001b[0;31mModuleNotFoundError\u001b[0m: No module named 'tensorflow'"
          ]
        }
      ],
      "source": [
        "import tensorflow as tf\n",
        "from tensorflow import keras\n",
        "\n",
        "# Helper libraries\n",
        "import numpy as np\n",
        "import matplotlib.pyplot as plt\n",
        "\n",
        "model = keras.Sequential([\n",
        "    keras.layers.Dense(20, activation='relu', input_shape=[1]),\n",
        "    keras.layers.Dense(25, activation='relu'),\n",
        "    keras.layers.Dense(1)\n",
        "])\n",
        "\n",
        "optimizer = tf.keras.optimizers.Adam()\n",
        "\n",
        "model.compile(loss='mse',\n",
        "              optimizer=optimizer,\n",
        "              metrics=['mae', 'mse'])\n",
        "\n",
        "model.fit(xs, ys, epochs=100, verbose=0)\n",
        "plt.plot(xs,model.predict(xs))\n",
        "plt.show()"
      ]
    },
    {
      "cell_type": "code",
      "execution_count": null,
      "metadata": {
        "id": "lY434Zv1VQu_"
      },
      "outputs": [],
      "source": [
        "w1, b1, w2, b2, w3, b3 = model.get_weights() # unpack weights from model\n",
        "\n",
        "def Relu(x):\n",
        "    return np.vectorize(lambda y: If(y >= 0 , y, RealVal(0)))(x)\n",
        "\n",
        "# reinterpret network symbolically using z3 variables.\n",
        "def net(x):\n",
        "    x1 = w1.T @ x + b1\n",
        "    y1 = Relu(x1)\n",
        "    x2 = w2.T @ y1 + b2\n",
        "    y2 = Relu(x2)\n",
        "    x3 = w3.T @ y2 + b3\n",
        "    return x3\n",
        "\n",
        "x = np.array([Real('x')])\n",
        "y_true = poly(x)\n",
        "y_pred = net(x)\n",
        "s = Solver()\n",
        "s.add(-1 <= x[0], x[0] <= 1) # constraint input to [-1,1] interval\n",
        "\n",
        "def Abs(x):\n",
        "    return If(x <= 0, -x, x)\n",
        "s.add(Abs( y_pred[0] - y_true[0] ) >= 0.5) # Is there an input with absolute error greater than 0.5?\n",
        "\n",
        "res = s.check()\n",
        "print(res)\n",
        "if res == sat:\n",
        "    m = s.model()\n",
        "    print(\"Bad x value:\", m[x[0]])\n",
        "    x_bad = m[x[0]].numerator_as_long() / m[x[0]].denominator_as_long()\n",
        "    print(\"Error of prediction: \", abs(model.predict(np.array([x_bad])) - cheb(x_bad)))"
      ]
    },
    {
      "cell_type": "markdown",
      "metadata": {
        "id": "PFlK121oVQu_"
      },
      "source": [
        "For more on neural verification, I would check out\n",
        "- https://sat-smt.in/programme.html  A 3 Part tutorial at SAT+SMT school by Guy Katz\n",
        "- https://github.com/sisl/NeuralVerification.jl"
      ]
    },
    {
      "cell_type": "markdown",
      "metadata": {
        "id": "zwtAyr72VQu_"
      },
      "source": [
        "# Takeaways\n",
        "\n",
        "- Z3 is fun.\n",
        "- Z3 is a powerful solver.\n",
        "- It can find satisfy constraints and solve puzzles\n",
        "- Exhaustively failing to find counterexamples = Proof\n",
        "- Mathematics\n",
        "- Applications of Z3 to Programming\n",
        "\n",
        "Z3 is not a panacea. It has some weaknesses in particular in regards to abstraction and induction. These are the strengths of interactive theorems provers like Coq, which Cody will talk about tomorrow. Nevertheless, working to Z3's strengths and making small compromises you can do astounding things with minimal effort.\n",
        "\n",
        "# Thanks for Coming!"
      ]
    },
    {
      "cell_type": "markdown",
      "metadata": {
        "id": "t2Zh63WqVQu_"
      },
      "source": [
        "## References\n",
        "\n",
        "- rise4fun https://rise4fun.com/z3/tutorialcontent/guide\n",
        "- https://ericpony.github.io/z3py-tutorial/guide-examples.htm\n",
        "- Programming Z3 - https://theory.stanford.edu/~nikolaj/programmingz3.html\n",
        "- Nikolaj Bjorner's tutorial https://youtu.be/nGwyNmsxX6I\n",
        "- Hakank's examples http://www.hakank.org/z3/\n",
        "- Yurichev's book \"SMT by Example\" https://yurichev.com/writings/SAT_SMT_by_example.pdf\n",
        "- http://hackage.haskell.org/package/sbv\n",
        "- https://www.youtube.com/watch?v=ruNFcH-KibY Tikhon Jelvis - Analyzing Programs with Z3\n",
        "- https://www.youtube.com/watch?v=rvPWDgJc0O4&ab_channel=ACMSIGPLAN - Nadia Polykarpova on Z3\n",
        "- SAT SMT school https://sat-smt.in/\n",
        "- Emina Torlak's course https://courses.cs.washington.edu/courses/cse507/19au/calendar.html\n",
        "- Lindsey Kuper - SMT Solving and Solver-Aided Systems http://composition.al/CSE290Q-2019-09/\n",
        "- http://www.sc-square.org/CSA/school/lectures.html"
      ]
    }
  ],
  "metadata": {
    "@webio": {
      "lastCommId": null,
      "lastKernelId": null
    },
    "kernelspec": {
      "display_name": "Python 3",
      "language": "python",
      "name": "python3"
    },
    "language_info": {
      "codemirror_mode": {
        "name": "ipython",
        "version": 3
      },
      "file_extension": ".py",
      "mimetype": "text/x-python",
      "name": "python",
      "nbconvert_exporter": "python",
      "pygments_lexer": "ipython3",
      "version": "3.8.5"
    },
    "colab": {
      "provenance": []
    }
  },
  "nbformat": 4,
  "nbformat_minor": 0
}